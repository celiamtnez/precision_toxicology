{
 "cells": [
  {
   "cell_type": "markdown",
   "metadata": {},
   "source": [
    "### Load the libraries"
   ]
  },
  {
   "cell_type": "code",
   "execution_count": null,
   "metadata": {},
   "outputs": [],
   "source": [
    "import os \n",
    "import numpy as np\n",
    "import scipy as sci\n",
    "import pandas as pd\n",
    "import seaborn as sns\n",
    "import matplotlib.pyplot as plt\n",
    "import matplotlib.collections as coll\n",
    "\n",
    "import scanpy as sc\n",
    "import anndata as ad\n",
    "\n",
    "from scipy.sparse import csr_matrix\n",
    "from matplotlib import rcParams\n",
    "from matplotlib import colors\n",
    "\n",
    "import custom_functions as cf"
   ]
  },
  {
   "cell_type": "code",
   "execution_count": null,
   "metadata": {},
   "outputs": [],
   "source": [
    "## set paramteres for visualisation\n",
    "\n",
    "sc.settings.set_figure_params(dpi=80)\n",
    "\n",
    "# settings for the plots\n",
    "sc.set_figure_params(scanpy=True, dpi=80, dpi_save=500,\n",
    "                     frameon=True, vector_friendly=True,\n",
    "                     color_map=\"YlGnBu\",\n",
    "                     #color_map=\"BuPu\",\n",
    "                     format='pdf', transparent=False,\n",
    "                     ipython_format='png2x')"
   ]
  },
  {
   "cell_type": "markdown",
   "metadata": {},
   "source": [
    "### Load the pre-processed data"
   ]
  },
  {
   "cell_type": "code",
   "execution_count": null,
   "metadata": {},
   "outputs": [],
   "source": [
    "adata = ad.read(\"/home/hpc/martinez/00_projects/human/precision_toxicology/filtered_joint_scran_normalized_removed_clusters_scRNAseq_10X_precision_toxicology_Harmony_nov21.h5ad\")"
   ]
  },
  {
   "cell_type": "code",
   "execution_count": null,
   "metadata": {},
   "outputs": [],
   "source": [
    "np.mean(adata.obs[\"n_genes\"])"
   ]
  },
  {
   "cell_type": "markdown",
   "metadata": {},
   "source": [
    "# 1) Subgroup identification and annotation"
   ]
  },
  {
   "cell_type": "markdown",
   "metadata": {},
   "source": [
    "### Import the marker genes"
   ]
  },
  {
   "cell_type": "code",
   "execution_count": null,
   "metadata": {},
   "outputs": [],
   "source": [
    "# import markers\n",
    "marker_names = []\n",
    "annot_type_list = []\n",
    "with open(\"/home/mrichter/scripts/precision_toxicology/All_markers_no_cell_types_220124.csv\") as f:\n",
    "    head = f.readline()\n",
    "    for line in f:\n",
    "        line = line.split(\";\")\n",
    "        marker_names.append(line[3])\n",
    "        annot_type_list.append(line[1]+\":\"+line[0])      \n",
    "        \n",
    "marker_dict = {}\n",
    "for name in list(set(annot_type_list)):\n",
    "    marker_dict[name] = []\n",
    "for i in range(0, len(annot_type_list)):\n",
    "    marker_dict[annot_type_list[i]].append(marker_names[i])\n",
    "    \n",
    "gene_name_dict = {}\n",
    "for i in range(0, len(adata.var)):\n",
    "    gene_name_dict[adata.var_names.tolist()[i]] = adata.var_names.tolist()[i]\n",
    "    \n",
    "marker_id_dict = {}\n",
    "for name in list(set(annot_type_list)):\n",
    "    marker_id_dict[name] = []\n",
    "    \n",
    "marker_name_dict = {}\n",
    "for name in list(set(annot_type_list)):\n",
    "    marker_name_dict[name] = []\n",
    "for name in list(set(annot_type_list)):\n",
    "    item = marker_dict[name]\n",
    "    for elem in item:\n",
    "        if elem.upper() in gene_name_dict.keys():\n",
    "            marker_id_dict[name].append(gene_name_dict[elem.upper()])\n",
    "            marker_name_dict[name].append(elem.upper()) "
   ]
  },
  {
   "cell_type": "code",
   "execution_count": null,
   "metadata": {},
   "outputs": [],
   "source": [
    "sc.tl.louvain(adata)"
   ]
  },
  {
   "cell_type": "code",
   "execution_count": null,
   "metadata": {},
   "outputs": [],
   "source": [
    "sc.pl.umap(adata, color=[\"louvain\", \"shared_clusters_across_donors\"], wspace=0.4,\n",
    "          save=\"_louvain_and_shared_clusters_Harmony_20211126.pdf\")"
   ]
  },
  {
   "cell_type": "code",
   "execution_count": null,
   "metadata": {},
   "outputs": [],
   "source": [
    "for key in marker_name_dict.keys():\n",
    "    sc.pl.umap(adata, color=marker_id_dict[key], \n",
    "               title=marker_name_dict[key],\n",
    "               cmap=\"YlGnBu\",\n",
    "               save=\"_markers_\"+key+\"_20211126.pdf\")"
   ]
  },
  {
   "cell_type": "code",
   "execution_count": null,
   "metadata": {},
   "outputs": [],
   "source": [
    "adata.var_names_make_unique()\n",
    "adata.raw = adata"
   ]
  },
  {
   "cell_type": "code",
   "execution_count": null,
   "metadata": {},
   "outputs": [],
   "source": [
    "for key in marker_name_dict.keys():\n",
    "    sc.pl.stacked_violin(adata, groupby=\"louvain\", \n",
    "                         var_names=marker_name_dict[key], swap_axes=True,\n",
    "                         save=\"markers_louvain_\"+key+\"_20211126.pdf\")"
   ]
  },
  {
   "cell_type": "code",
   "execution_count": null,
   "metadata": {},
   "outputs": [],
   "source": [
    "sc.tl.rank_genes_groups(adata, groupby=\"louvain\", n_genes=2000)"
   ]
  },
  {
   "cell_type": "code",
   "execution_count": null,
   "metadata": {},
   "outputs": [],
   "source": [
    "df = sc.tl.marker_gene_overlap(adata, reference_markers=marker_name_dict, adj_pval_threshold=0.05)"
   ]
  },
  {
   "cell_type": "code",
   "execution_count": null,
   "metadata": {},
   "outputs": [],
   "source": [
    "g = sns.clustermap(df, cmap=\"YlGnBu\", yticklabels=1, linewidths=0.1,\n",
    "                  row_cluster=True)\n",
    "#plt.savefig(\"heatmap_overall_louvain_marker_overlap_20211126.pdf\", bbox_inches=\"tight\")"
   ]
  },
  {
   "cell_type": "code",
   "execution_count": null,
   "metadata": {},
   "outputs": [],
   "source": [
    "annot = []\n",
    "for elem in adata.obs[\"louvain\"]:\n",
    "    if elem in [\"13\",\"3\",\"6\"]:\n",
    "        annot.append(\"losing_expression\")\n",
    "    elif elem == \"7\":\n",
    "        annot.append(\"lipids_phaseIII\")\n",
    "    elif elem in [\"2\",\"11\",\"0\",\"8\",\"10\",\"15\"]:\n",
    "        annot.append(\"carbs_phaseII_stress\")\n",
    "    else:\n",
    "        annot.append(\"bile_sterols\")\n",
    "adata.obs[\"subgroups\"] = annot"
   ]
  },
  {
   "cell_type": "code",
   "execution_count": null,
   "metadata": {},
   "outputs": [],
   "source": [
    "adata.uns[\"subgroups_colors\"] = ['#ff7f0e', '#1f77b4', '#17b2b1', '#9b1c03']"
   ]
  },
  {
   "cell_type": "code",
   "execution_count": null,
   "metadata": {},
   "outputs": [],
   "source": [
    "sc.pl.umap(adata, color=[\"louvain\",\"shared_clusters_across_donors\",\"subgroups\"],\n",
    "          wspace=0.4)\n",
    "          #save=\"_subgroup_annot_20211126.pdf\")"
   ]
  },
  {
   "cell_type": "code",
   "execution_count": null,
   "metadata": {},
   "outputs": [],
   "source": [
    "sc.pl.umap(adata, color=[\"donor\",\"louvain\"])"
   ]
  },
  {
   "cell_type": "code",
   "execution_count": null,
   "metadata": {},
   "outputs": [],
   "source": [
    "for key in marker_name_dict.keys():\n",
    "    sc.pl.stacked_violin(adata, groupby=\"subgroups\",\n",
    "                         var_names=marker_id_dict[key], \n",
    "                         standard_scale=\"var\",\n",
    "                         swap_axes=True,\n",
    "                         #title=marker_name_dict[key],\n",
    "                         cmap=\"YlGnBu\",\n",
    "                         save=\"_markers_\"+key+\"_20220124.pdf\")"
   ]
  },
  {
   "cell_type": "code",
   "execution_count": null,
   "metadata": {},
   "outputs": [],
   "source": [
    "sc.pl.dotplot(adata, groupby=\"subgroups\", var_names=[\"RPS19\",\"PRDX1\",\"BAX\",\n",
    "                                                     \"ATF4\",\"GCLM\",\"GSTA1\",\n",
    "                                                     \"LGALS1\",\"MT1H\",\"MT1M\"], \n",
    "              #swap_axes=True,\n",
    "              standard_scale=\"var\")\n",
    "              #save=\"some_stress_markers_20211215.pdf\")"
   ]
  },
  {
   "cell_type": "code",
   "execution_count": null,
   "metadata": {},
   "outputs": [],
   "source": [
    "for key in marker_name_dict.keys():\n",
    "    sc.pl.stacked_violin(adata, groupby=\"subgroups\",  \n",
    "                         var_names=marker_name_dict[key], swap_axes=True,\n",
    "                         save=\"markers_subgroups_\"+key+\"_20211126.pdf\")"
   ]
  },
  {
   "cell_type": "code",
   "execution_count": null,
   "metadata": {},
   "outputs": [],
   "source": [
    "df2 = pd.DataFrame()        \n",
    "for elem in sorted(list(set(adata.obs[\"subgroups\"].tolist()))):\n",
    "    adata.var[elem+\"_p_cells\"] = np.sum(adata[adata.obs[\"subgroups\"] == elem,:].layers[\"norm_counts\"] > 0, axis=0)/len(adata[adata.obs[\"subgroups\"] == elem,:])\n",
    "    df2[elem+\"_p_cells\"] = np.sum(adata[adata.obs[\"subgroups\"] == elem,:].layers[\"norm_counts\"] > 0, axis=0)/len(adata[adata.obs[\"subgroups\"] == elem,:])"
   ]
  },
  {
   "cell_type": "code",
   "execution_count": null,
   "metadata": {},
   "outputs": [],
   "source": [
    "df1 = df2.unstack().reset_index() "
   ]
  },
  {
   "cell_type": "code",
   "execution_count": null,
   "metadata": {},
   "outputs": [],
   "source": [
    "cols = {\"bile_sterols_p_cells\":'#ff7f0e', \"carbs_phaseII_stress_p_cells\":'#1f77b4',\n",
    "        \"lipids_phaseIII_p_cells\":\"#17b2b1\",\n",
    "        \"losing_expression_p_cells\":'#9b1c03'}\n",
    "\n",
    "ax = sns.boxplot(x=\"level_0\", y=0, data=df1, palette=cols, showfliers=False)\n",
    "ax.set_xticklabels(ax.get_xticklabels(), rotation=45, horizontalalignment='right')\n",
    "\n",
    "plt.savefig(\"boxplot_Fig1_C_percentage_cells_gene_expression_per_cluster_20211126.pdf\", bbox_inches=\"tight\")\n",
    "plt.show()"
   ]
  },
  {
   "cell_type": "code",
   "execution_count": null,
   "metadata": {},
   "outputs": [],
   "source": [
    "# Data\n",
    "df = pd.crosstab(adata.obs[\"subgroups\"], adata.obs[\"cyclone_phases\"], margins = False)\n",
    "r = np.arange(4)\n",
    " \n",
    "# From raw value to percentage\n",
    "totals = [i+j+k for i,j,k in zip(df['G1'], df['G2M'], df['S'])]\n",
    "\n",
    "G1 = [i / j * 100 for i,j in zip(df['G1'], totals)]\n",
    "G2M = [i / j * 100 for i,j in zip(df['G2M'], totals)]\n",
    "S = [i / j * 100 for i,j in zip(df['S'], totals)]\n",
    "\n",
    "# plot\n",
    "barWidth = 0.85\n",
    "names = ('I', 'II', 'III', 'IV')\n",
    "\n",
    "# Create bars\n",
    "plt.bar(r, G1, width=barWidth, label=\"G1\", color=(\"#606060\"))\n",
    "plt.bar(r, G2M, bottom=G1, width=barWidth, label=\"G2M\", color=(\"#cb1361\"))\n",
    "plt.bar(r, S, bottom=[i+j for i,j in zip(G1, G2M)], width=barWidth, label=\"S\", color=(\"#fbdc12\"))\n",
    "\n",
    "\n",
    "    \n",
    "# Custom x axis\n",
    "plt.xticks(r, names)\n",
    "#plt.xlabel(\"group\")\n",
    "plt.xticks(rotation=0)\n",
    "plt.legend(loc='upper left', bbox_to_anchor=(1,1), ncol=1)\n",
    "\n",
    "# Show graphic\n",
    "plt.savefig(\"barplot_Fig1_D_cell_cycle_analysis_20211126.pdf\", bbox_inches=\"tight\")\n",
    "plt.show()"
   ]
  },
  {
   "cell_type": "code",
   "execution_count": null,
   "metadata": {},
   "outputs": [],
   "source": [
    "pd.crosstab(adata.obs[\"subgroups\"], adata.obs[\"cyclone_phases\"], margins = True)"
   ]
  },
  {
   "cell_type": "code",
   "execution_count": null,
   "metadata": {},
   "outputs": [],
   "source": [
    "sc.pl.dotplot(adata, groupby=\"subgroups\", var_names=[\"CYP8B1\",\"HSD17B4\",\"HSD3B7\",\"HMGCS2\",\"CYP27A1\",\n",
    "                          \"LDHA\",\"GSTO1\",\"SULT2A1\",\"GAMT\",\"GSTZ1\",\n",
    "                                                     \"ABCC3\",\"ABCC2\",\"PLIN5\",\"MLXIPL\",\"LDLR\"],\n",
    "              cmap=\"YlGnBu\",\n",
    "              standard_scale=\"var\",\n",
    "              save=\"_figure1_E_marker_genes_20220121.pdf\")"
   ]
  },
  {
   "cell_type": "code",
   "execution_count": null,
   "metadata": {},
   "outputs": [],
   "source": [
    "sc.pl.dotplot(adata, groupby=\"subgroups\", var_names=[\"CYP8B1\",\"CYP1B1\",\"HSD17B4\",\"CYP27A1\",\n",
    "                                                       \"HSD3B7\",\"CYP51A1\",\"RXRA\",\"AHR\",\"HMGCS2\",\"NR1H3\",\n",
    "                                                       'SULT2A1',\"GSTO1\",\"GSTA1\",\"GSTA2\",\"LDHA\",\n",
    "                                                       \"UGP2\",\"BAX\",\"PCBD1\",\"GAMT\",\"SULT1A1\",\n",
    "                                                       \"ABCC2\",\"ABCC3\",\"SLCO1B1\",\"ABCB1\",\n",
    "                                                        \"LBR\",\"CCNL1\",\"APOH\",\"ACACB\",\"PLIN5\",\"LDLR\"],\n",
    "              standard_scale=\"var\", cmap=\"YlGnBu\", save=\"more_markers_ylgnbu_20220215.pdf\")"
   ]
  },
  {
   "cell_type": "code",
   "execution_count": null,
   "metadata": {},
   "outputs": [],
   "source": [
    "sc.pl.umap(adata, color=[\"subgroups\",\"SERPINA1\",\"CYP27A1\",\"LDHA\",\"ABCC2\",\n",
    "                         \"Treatment\",\"ALB\",\"CYP8B1\",\"GSTZ1\",\"ABCC3\",\n",
    "                         \"donor\",\"TTR\",\"HMGCS2\",\"GSTO1\",\"MLXIPL\"], wspace=0.4, ncols=5,\n",
    "          save=\"_Fig1_F_subgroup_markers_20211126.pdf\")"
   ]
  },
  {
   "cell_type": "code",
   "execution_count": null,
   "metadata": {},
   "outputs": [],
   "source": [
    "outfile = open(\"subgroup_annotation_after_Harmony.txt\", \"w\")\n",
    "for i in range(0, len(adata)):\n",
    "    outfile.write(adata.obs_names.tolist()[i])\n",
    "    outfile.write(\"\\t\")\n",
    "    outfile.write(adata.obs[\"subgroups\"][i])\n",
    "    outfile.write(\"\\n\")\n",
    "outfile.close()"
   ]
  },
  {
   "cell_type": "markdown",
   "metadata": {},
   "source": [
    "## Plotting transcription factors predicted by ChEA3"
   ]
  },
  {
   "cell_type": "code",
   "execution_count": null,
   "metadata": {},
   "outputs": [],
   "source": [
    "sc.pl.stacked_violin(adata, groupby=\"subgroups\", var_names=[\"BPTF\",\"EEA1\",\"FOXO3\",\"ZBTB38\",\"ZNF148\",\n",
    "                                                            \"GTF3A\",\"PA2G4\",\"NME2\",\"CENPX\",\"HMGN3\",\n",
    "                                                            \"MYSM1\",\"KMT2A\",\"NFAT5\",\"ZNF655\",\"ASH1L\",\n",
    "                                                            \"IKZF3\",\"ZNF428\",\"STAT4\",\"BATF\",\"STAT1\"],\n",
    "                     #swap_axes=True,\n",
    "                     standard_scale=\"var\",\n",
    "                     cmap=\"YlGnBu\",\n",
    "                    save=\"regulating_TFs_all_20220124.pdf\")"
   ]
  },
  {
   "cell_type": "code",
   "execution_count": null,
   "metadata": {},
   "outputs": [],
   "source": [
    "# plotting TFs predicted by ChEA3 for only DMSO-treated cells\n",
    "adata_DMSO = adata[adata.obs[\"Treatment\"] == \"Vehicle\"]"
   ]
  },
  {
   "cell_type": "code",
   "execution_count": null,
   "metadata": {},
   "outputs": [],
   "source": [
    "sc.pl.stacked_violin(adata_DMSO, groupby=\"subgroups\", var_names=[\"HNF4A\",\"ZBTB38\",\"BPTF\",\"CLOCK\",\"ZNF148\",\n",
    "                                                            \"GTF3A\",\"PA2G4\",\"HMGN3\",\"CENPX\",\"SNAPC5\",\n",
    "                                                            \"MLXIPL\",\"MYSM1\",\"NFAT5\",\"ZNF518A\",\"BAZ2B\",\n",
    "                                                            \"IKZF3\",\"IKZF1\",\"DNMT1\",\"E2F2\",\"ZNF367\"],\n",
    "                     #swap_axes=True,\n",
    "                     standard_scale=\"var\",\n",
    "                     cmap=\"YlGnBu\",\n",
    "                    save=\"regulating_TFs_DMSO_20220124.pdf\")"
   ]
  },
  {
   "cell_type": "markdown",
   "metadata": {},
   "source": [
    "## Comparison between in vitro and in vivo"
   ]
  },
  {
   "cell_type": "code",
   "execution_count": null,
   "metadata": {},
   "outputs": [],
   "source": [
    "sc.tl.rank_genes_groups(adata, groupby=\"subgroups\", n_genes=10)"
   ]
  },
  {
   "cell_type": "code",
   "execution_count": null,
   "metadata": {},
   "outputs": [],
   "source": [
    "adata.uns[\"rank_genes_groups\"][\"names\"]"
   ]
  },
  {
   "cell_type": "code",
   "execution_count": null,
   "metadata": {},
   "outputs": [],
   "source": [
    "markers = [\"SPTBN1\",\"DST\",\"CLIP1\",\"APOB\",\"CYP3A5\",\n",
    "           #\"DIAPH1\",\"ABCC2\",\"GOLGA4\",\"EIF3A\",\"GOLGB1\",\n",
    "           \n",
    "           \"RPL13\",\"RPL32\",\"RPS27A\",\"RPS13\",\"GAPDH\",\n",
    "           #\"RPL14\",\"RPL11\",\"RPL26\",\"RPS12\",\"RPS24\",\n",
    "           \n",
    "           \"DST\",\"ABCC2\",\"CYP3A5\",\"CES1\",\"NKTR\",\n",
    "           #\"N4BP2L2\",\"MLXIPL\",\"ABCC3\",\"HSPA5\",\"CCNL1\"]"
   ]
  },
  {
   "cell_type": "code",
   "execution_count": null,
   "metadata": {},
   "outputs": [],
   "source": [
    "adata1 = adata[:,markers].copy()"
   ]
  },
  {
   "cell_type": "code",
   "execution_count": null,
   "metadata": {},
   "outputs": [],
   "source": [
    "adata1"
   ]
  },
  {
   "cell_type": "code",
   "execution_count": null,
   "metadata": {},
   "outputs": [],
   "source": [
    "df1 = pd.DataFrame()\n",
    "for elem in list(set(adata1.obs[\"subgroups\"])):\n",
    "    #if elem != \"losing_expression\":\n",
    "    df1[\"mean_\"+elem] = np.mean(adata1[adata1.obs[\"subgroups\"] == elem].X, axis=0)"
   ]
  },
  {
   "cell_type": "code",
   "execution_count": null,
   "metadata": {},
   "outputs": [],
   "source": [
    "df1.index = adata1.var_names.tolist()"
   ]
  },
  {
   "cell_type": "code",
   "execution_count": null,
   "metadata": {},
   "outputs": [],
   "source": [
    "df1 = df1.T/np.mean(df1.T)"
   ]
  },
  {
   "cell_type": "code",
   "execution_count": null,
   "metadata": {},
   "outputs": [],
   "source": [
    "df1 = (df1 - np.min(df1)) / (np.max(df1) - np.min(df1))"
   ]
  },
  {
   "cell_type": "code",
   "execution_count": null,
   "metadata": {},
   "outputs": [],
   "source": [
    "df1"
   ]
  },
  {
   "cell_type": "code",
   "execution_count": null,
   "metadata": {},
   "outputs": [],
   "source": [
    "# load the integrated in vivo data"
   ]
  },
  {
   "cell_type": "code",
   "execution_count": null,
   "metadata": {},
   "outputs": [],
   "source": [
    "adata2 = sc.read(\"/home/mrichter/scripts/precision_toxicology/data_integration/scgen_integration_aizarani_macparland_feb22.h5ad\")"
   ]
  },
  {
   "cell_type": "code",
   "execution_count": null,
   "metadata": {},
   "outputs": [],
   "source": [
    "adata2 = adata2[:,markers]"
   ]
  },
  {
   "cell_type": "code",
   "execution_count": null,
   "metadata": {},
   "outputs": [],
   "source": [
    "df2 = pd.DataFrame()\n",
    "for elem in list(set(adata2.obs[\"subgroups\"])):\n",
    "    print(elem)\n",
    "    df2[\"mean_in_vivo_\"+elem] = np.mean(adata2[adata2.obs[\"subgroups\"] == elem].X, axis=0)"
   ]
  },
  {
   "cell_type": "code",
   "execution_count": null,
   "metadata": {},
   "outputs": [],
   "source": [
    "df2.index = adata2.var_names.tolist()"
   ]
  },
  {
   "cell_type": "code",
   "execution_count": null,
   "metadata": {},
   "outputs": [],
   "source": [
    "df2 = df2.T/np.mean(df2.T)"
   ]
  },
  {
   "cell_type": "code",
   "execution_count": null,
   "metadata": {},
   "outputs": [],
   "source": [
    "df2 = (df2 - np.min(df2)) / (np.max(df2) - np.min(df2))"
   ]
  },
  {
   "cell_type": "code",
   "execution_count": null,
   "metadata": {},
   "outputs": [],
   "source": [
    "df2"
   ]
  },
  {
   "cell_type": "code",
   "execution_count": null,
   "metadata": {},
   "outputs": [],
   "source": [
    "df = pd.concat([df1, df2], axis=0)"
   ]
  },
  {
   "cell_type": "code",
   "execution_count": null,
   "metadata": {},
   "outputs": [],
   "source": [
    "df"
   ]
  },
  {
   "cell_type": "code",
   "execution_count": null,
   "metadata": {},
   "outputs": [],
   "source": [
    "dfx = df.T.corr()"
   ]
  },
  {
   "cell_type": "code",
   "execution_count": null,
   "metadata": {},
   "outputs": [],
   "source": [
    "dfx"
   ]
  },
  {
   "cell_type": "code",
   "execution_count": null,
   "metadata": {},
   "outputs": [],
   "source": [
    "sns.clustermap(dfx, cmap=\"YlGnBu\", method=\"ward\")\n",
    "#plt.savefig(\"heatmap_correlation_in_vivo_in_vitro_0.pdf\")"
   ]
  },
  {
   "cell_type": "markdown",
   "metadata": {},
   "source": [
    "## Looking into zonation in vitro"
   ]
  },
  {
   "cell_type": "code",
   "execution_count": null,
   "metadata": {},
   "outputs": [],
   "source": [
    "sc.pl.umap(adata, color=[\"CYP27A1\",\"HMGCS2\",\"GSTO1\",\"PCBD1\",\"MLXIPL\",\"APOH\"], ncols=2,\n",
    "          save=\"_zonation_markers_subgroups_20220125.pdf\")"
   ]
  },
  {
   "cell_type": "code",
   "execution_count": null,
   "metadata": {},
   "outputs": [],
   "source": [
    "adataL3 = adata[adata.obs[\"subgroups\"] == \"lipids_phaseIII\"]\n",
    "adataL3.obs[\"group\"] = \"lipids_phaseIII\"\n",
    "adataC2 = adata[adata.obs[\"subgroups\"] == \"carbs_phaseII_stress\"]\n",
    "adataC2.obs[\"group\"] = \"carbs_phaseII_stress\"\n",
    "adataB = adata[adata.obs[\"subgroups\"] == \"bile_sterols\"]\n",
    "adataB.obs[\"group\"] = \"bile_sterols\"\n",
    "adata0 = adata[adata.obs[\"subgroups\"] == \"losing_expression\"]\n",
    "adata0.obs[\"group\"] = \"losing_expression\""
   ]
  },
  {
   "cell_type": "code",
   "execution_count": null,
   "metadata": {},
   "outputs": [],
   "source": [
    "sc.pl.umap(adataB, color=[\"subgroups\",\"CYP27A1\",\"HSD11B1\"], \n",
    "           save=\"_bile_sterols_markers2_zonation_20220201.pdf\")"
   ]
  },
  {
   "cell_type": "code",
   "execution_count": null,
   "metadata": {},
   "outputs": [],
   "source": [
    "sc.pl.umap(adataC2, color=[\"subgroups\",\"GSTO1\",\"PCBD1\"],\n",
    "           save=\"_carbs_phaseII_markers_zonation_20220201.pdf\")"
   ]
  },
  {
   "cell_type": "code",
   "execution_count": null,
   "metadata": {},
   "outputs": [],
   "source": [
    "sc.pl.umap(adataL3, color=[\"subgroups\",\"MLXIPL\",\"APOH\"],\n",
    "           save=\"_lipids_phaseIII_markers_zonation_20220201.pdf\")"
   ]
  },
  {
   "cell_type": "code",
   "execution_count": null,
   "metadata": {},
   "outputs": [],
   "source": []
  },
  {
   "cell_type": "code",
   "execution_count": null,
   "metadata": {},
   "outputs": [],
   "source": [
    "df = pd.read_csv('/home/mrichter/zonation_paper/zonation_markers.txt', sep='\\t')\n",
    "zonation_markers = []\n",
    "for marker in df.HumanGeneID.tolist():\n",
    "    if ';' in marker:\n",
    "        zonation_markers += marker.split(';')\n",
    "    else:\n",
    "        zonation_markers.append(marker)"
   ]
  },
  {
   "cell_type": "code",
   "execution_count": null,
   "metadata": {},
   "outputs": [],
   "source": [
    "bins = 3\n",
    "labels = [1,2,3]\n",
    "df['zones'] = pd.cut(df['HumanModule'], bins=bins, labels=labels)"
   ]
  },
  {
   "cell_type": "code",
   "execution_count": null,
   "metadata": {},
   "outputs": [],
   "source": [
    "zonation_dict = df.groupby('zones')['HumanGeneID'].apply(list).to_dict()"
   ]
  },
  {
   "cell_type": "code",
   "execution_count": null,
   "metadata": {},
   "outputs": [],
   "source": [
    "pv = df[df[\"zones\"] == 1].HumanGeneID.tolist()\n",
    "mid = df[df[\"zones\"] == 2].HumanGeneID.tolist()\n",
    "cv = df[df[\"zones\"] == 3].HumanGeneID.tolist()"
   ]
  },
  {
   "cell_type": "code",
   "execution_count": null,
   "metadata": {},
   "outputs": [],
   "source": [
    "sc.tl.score_genes(adata, pv, score_name=\"pv_score\")\n",
    "sc.tl.score_genes(adata, cv, score_name=\"cv_score\")\n",
    "sc.tl.score_genes(adata, mid, score_name=\"mid_score\")"
   ]
  },
  {
   "cell_type": "code",
   "execution_count": null,
   "metadata": {},
   "outputs": [],
   "source": [
    "sc.pl.umap(adata, color=[\"subgroups\",\"cv_score\",\"pv_score\",\"mid_score\"], ncols=4)"
   ]
  },
  {
   "cell_type": "code",
   "execution_count": null,
   "metadata": {},
   "outputs": [],
   "source": [
    "sc.tl.rank_genes_groups(adata_DMSO, groupby=\"subgroups\", n_genes=500)"
   ]
  },
  {
   "cell_type": "code",
   "execution_count": null,
   "metadata": {},
   "outputs": [],
   "source": [
    "dfx = sc.tl.marker_gene_overlap(adata_DMSO, reference_markers=zonation_dict, adj_pval_threshold=0.05)"
   ]
  },
  {
   "cell_type": "code",
   "execution_count": null,
   "metadata": {},
   "outputs": [],
   "source": [
    "g = sns.clustermap(np.log1p(dfx), cmap=\"YlGnBu\", yticklabels=1, linewidths=0.1,\n",
    "                  row_cluster=False)\n",
    "#plt.savefig(\"heatmap_overall_louvain_marker_overlap_20211126.pdf\", bbox_inches=\"tight\")"
   ]
  },
  {
   "cell_type": "markdown",
   "metadata": {},
   "source": [
    "# 2) Comparing Cocktail vs DMSO"
   ]
  },
  {
   "cell_type": "code",
   "execution_count": null,
   "metadata": {},
   "outputs": [],
   "source": [
    "annot = []\n",
    "for elem in adata.obs[\"Treatment\"]:\n",
    "    if elem[0:3] == \"FFA\":\n",
    "        annot.append(\"with_FFA\")\n",
    "    else:\n",
    "        annot.append(\"no_FFA\")\n",
    "adata.obs[\"FFA_annot\"] = annot"
   ]
  },
  {
   "cell_type": "code",
   "execution_count": null,
   "metadata": {},
   "outputs": [],
   "source": [
    "annot = []\n",
    "for elem in adata.obs[\"Treatment\"]:\n",
    "    if elem in [\"Vehicle\", \"FFA_Vehicle\"]:\n",
    "        annot.append(\"no_Cocktail\")\n",
    "    else:\n",
    "        annot.append(\"Cocktail\")\n",
    "adata.obs[\"cocktail_annot\"] = annot"
   ]
  },
  {
   "cell_type": "code",
   "execution_count": null,
   "metadata": {},
   "outputs": [],
   "source": [
    "annot = []\n",
    "for idx, elem in enumerate(adata.obs[\"Treatment\"]):\n",
    "    annot.append(elem+\"_\"+adata.obs[\"subgroups\"][idx])\n",
    "adata.obs[\"group_Treatment\"] = annot"
   ]
  },
  {
   "cell_type": "code",
   "execution_count": null,
   "metadata": {},
   "outputs": [],
   "source": [
    "annot = []\n",
    "for idx, elem in enumerate(adata.obs[\"subgroups\"]):\n",
    "    if adata.obs[\"Treatment\"][idx] == \"Vehicle\":\n",
    "        annot.append(elem+\"_1DMSO\")\n",
    "    elif adata.obs[\"Treatment\"][idx] == \"FFA_Vehicle\":\n",
    "        annot.append(elem+\"_2FFA\")\n",
    "    elif adata.obs[\"Treatment\"][idx] == \"Cocktail\":\n",
    "        annot.append(elem+\"_3Cocktail\")\n",
    "    else:\n",
    "        annot.append(elem+\"_4FFA_Cocktail\")\n",
    "adata.obs[\"subgroup_treatment\"] = annot"
   ]
  },
  {
   "cell_type": "code",
   "execution_count": null,
   "metadata": {},
   "outputs": [],
   "source": [
    "adata1 = adata[adata.obs[\"FFA_annot\"] == \"no_FFA\"]\n",
    "adata1.obs[\"group\"] = \"pseudobulk\""
   ]
  },
  {
   "cell_type": "code",
   "execution_count": null,
   "metadata": {},
   "outputs": [],
   "source": [
    "adataL3 = adata1[adata1.obs[\"subgroups\"] == \"lipids_phaseIII\"]\n",
    "adataL3.obs[\"group\"] = \"lipids_phaseIII\"\n",
    "adataC2 = adata1[adata1.obs[\"subgroups\"] == \"carbs_phaseII_stress\"]\n",
    "adataC2.obs[\"group\"] = \"carbs_phaseII_stress\"\n",
    "adataB = adata1[adata1.obs[\"subgroups\"] == \"bile_sterols\"]\n",
    "adataB.obs[\"group\"] = \"bile_sterols\"\n",
    "adata0 = adata1[adata1.obs[\"subgroups\"] == \"losing_expression\"]\n",
    "adata0.obs[\"group\"] = \"losing_expression\""
   ]
  },
  {
   "cell_type": "code",
   "execution_count": null,
   "metadata": {},
   "outputs": [],
   "source": [
    "sc.pl.stacked_violin(adata1, groupby=\"subgroup_treatment\",\n",
    "                     var_names=[\"CYP2D6\", \"CYP2C19\", \"CYP2C9\", \"CYP3A4\", \"CYP1A2\"],\n",
    "                     swap_axes=True,\n",
    "                     cmap=\"YlGnBu\",\n",
    "                     save=\"5cytochromes_Cocktail_vs_DMSO_unscaled_horizontal_20211201.pdf\")"
   ]
  },
  {
   "cell_type": "code",
   "execution_count": null,
   "metadata": {},
   "outputs": [],
   "source": [
    "sc.pl.stacked_violin(adata1, groupby=\"Treatment\",\n",
    "                     var_names=[\"CYP2D6\", \"CYP2C19\", \"CYP2C9\", \"CYP3A4\", \"CYP1A2\"], \n",
    "                     cmap=\"YlGnBu\",\n",
    "                     swap_axes=True,\n",
    "                     save=\"5cytochromes_Cocktail_vs_DMSO_pseudobulk_unscaled_horizontal_20211201.pdf\")"
   ]
  },
  {
   "cell_type": "code",
   "execution_count": null,
   "metadata": {},
   "outputs": [],
   "source": [
    "adata2 = adata1[adata1.obs[\"subgroups\"] != \"losing_expression\"]\n",
    "adata2.obs[\"group\"] = \"without_losing_exp\""
   ]
  },
  {
   "cell_type": "code",
   "execution_count": null,
   "metadata": {},
   "outputs": [],
   "source": [
    "for i in [adataB,adataC2,adataL3,adata0, adata1, adata2]:\n",
    "    sc.tl.rank_genes_groups(i, groupby=\"Treatment\", #groups=[\"Cocktail\"], reference=\"Vehicle\",\n",
    "                       n_genes=len(adata.var), use_raw=True)\n",
    "\n",
    "    dict_genes = i.uns[\"rank_genes_groups\"].copy()\n",
    "\n",
    "    df = {}\n",
    "    for idx, elem in enumerate(list(dict_genes[\"names\"].dtype.names)):\n",
    "        print(idx, elem)\n",
    "        df[elem+\"_gene\"] = []\n",
    "        df[elem+\"_logfoldchange\"] = []\n",
    "        df[elem+\"_pval_adj\"] = []\n",
    "        for j in range(0, len(adata.var)):\n",
    "            df[elem+\"_gene\"].append(dict_genes[\"names\"][j][idx])\n",
    "            df[elem+\"_logfoldchange\"].append(dict_genes[\"logfoldchanges\"][j][idx])\n",
    "            df[elem+\"_pval_adj\"].append(dict_genes[\"pvals_adj\"][j][idx])\n",
    "\n",
    "    dataframe = pd.DataFrame(df)        \n",
    "    for idx, elem in enumerate(list(dict_genes[\"names\"].dtype.names)):\n",
    "        adata.var[str(i.obs[\"group\"][0])+\"_\"+elem+\"_mean\"] = np.mean(i[i.obs[\"Treatment\"] == elem,:].X, axis=0)\n",
    "        adata.var[str(i.obs[\"group\"][0])+\"_\"+elem+\"_n_cells\"] = np.sum(i[i.obs[\"Treatment\"] == elem,:].X > 0, axis=0)\n",
    "        dataframe.index = dataframe[elem+\"_gene\"]\n",
    "        adata.var[str(i.obs[\"group\"][0])+\"_\"+elem+\"_log2FC\"] = dataframe[elem+\"_logfoldchange\"]\n",
    "        adata.var[str(i.obs[\"group\"][0])+\"_\"+elem+\"_pvals_adj\"] = dataframe[elem+\"_pval_adj\"]"
   ]
  },
  {
   "cell_type": "code",
   "execution_count": null,
   "metadata": {},
   "outputs": [],
   "source": [
    "adata.var"
   ]
  },
  {
   "cell_type": "code",
   "execution_count": null,
   "metadata": {},
   "outputs": [],
   "source": [
    "for elem in [\"bile_sterols\",\"carbs_phaseII_stress\",\"lipids_phaseIII\",\n",
    "             \"losing_expression\",\"pseudobulk\",\"without_losing_exp\"]:\n",
    "    changes = []\n",
    "    for j in range(0, len(adata.var)):\n",
    "        if adata.var[elem+\"_Cocktail_log2FC\"][j] > 1 and adata.var[elem+\"_Cocktail_pvals_adj\"][j] < 0.05:\n",
    "            changes.append(\"up_Cocktail\")\n",
    "        elif adata.var[elem+\"_Cocktail_log2FC\"][j] < -1 and adata.var[elem+\"_Cocktail_pvals_adj\"][j] < 0.05:\n",
    "            changes.append(\"up_DMSO\")\n",
    "        else:\n",
    "            changes.append(\"none\")\n",
    "        \n",
    "    adata.var[\"changes_\"+elem] = changes  "
   ]
  },
  {
   "cell_type": "code",
   "execution_count": null,
   "metadata": {},
   "outputs": [],
   "source": [
    "adata.var.to_csv(\"differential_expression_Cocktail_vs_DMSO_nov21.csv\")"
   ]
  },
  {
   "cell_type": "code",
   "execution_count": null,
   "metadata": {},
   "outputs": [],
   "source": [
    "genes_no0 = []\n",
    "for idx, elem in enumerate(adata.var_names.tolist()):\n",
    "    if adata.var[\"changes_without_losing_exp\"][idx] == \"up_Cocktail\":\n",
    "        genes_no0.append(elem)"
   ]
  },
  {
   "cell_type": "code",
   "execution_count": null,
   "metadata": {},
   "outputs": [],
   "source": [
    "genes_all = []\n",
    "for idx, elem in enumerate(adata.var_names.tolist()):\n",
    "    if adata.var[\"changes_pseudobulk\"][idx] == \"up_Cocktail\":\n",
    "        genes_all.append(elem)"
   ]
  },
  {
   "cell_type": "code",
   "execution_count": null,
   "metadata": {},
   "outputs": [],
   "source": [
    "genes = {\"DEGs_all\":genes_all,\n",
    "         \"DEGs_no_losing_expression\":genes_no0}"
   ]
  },
  {
   "cell_type": "code",
   "execution_count": null,
   "metadata": {},
   "outputs": [],
   "source": [
    "df = pd.DataFrame(dict([ (k,pd.Series(v)) for k,v in genes.items() ]))"
   ]
  },
  {
   "cell_type": "code",
   "execution_count": null,
   "metadata": {},
   "outputs": [],
   "source": [
    "df.to_csv(\"DEGs_Cocktail_vs_DMSO_with_and_without_losing_expression.csv\")"
   ]
  },
  {
   "cell_type": "code",
   "execution_count": null,
   "metadata": {},
   "outputs": [],
   "source": [
    "from matplotlib_venn import venn2, venn3"
   ]
  },
  {
   "cell_type": "code",
   "execution_count": null,
   "metadata": {},
   "outputs": [],
   "source": [
    "c = venn2([set(genes_all), set(genes_no0)])\n",
    "c.get_patch_by_id('10').set_color('#9b1c03')\n",
    "c.get_patch_by_id('10').set_edgecolor('none')\n",
    "c.get_patch_by_id('01').set_color('#768d82')\n",
    "c.get_patch_by_id('01').set_edgecolor('none')\n",
    "c.get_patch_by_id('11').set_color('#ba7ca0')\n",
    "c.get_patch_by_id('11').set_edgecolor('none')\n",
    "c.get_patch_by_id('11').set_alpha(0.4)\n",
    "plt.savefig(\"venn_pseudobulk_DEGs_with_and_without_losing_exp_proportional_20211129.pdf\")"
   ]
  },
  {
   "cell_type": "code",
   "execution_count": null,
   "metadata": {},
   "outputs": [],
   "source": [
    "df = pd.read_csv(\"differential_expression_Cocktail_vs_DMSO_nov21.csv\", index_col=0)"
   ]
  },
  {
   "cell_type": "code",
   "execution_count": null,
   "metadata": {},
   "outputs": [],
   "source": [
    "up_all = []\n",
    "bile = []\n",
    "carbs = []\n",
    "lipids = []\n",
    "le = []\n",
    "for idx, elem in enumerate(df[\"gene_name\"]):\n",
    "    if df[\"changes_bile_sterols\"][idx] == \"up_Cocktail\" and df[\"changes_carbs_phaseII_stress\"][idx] == \"up_Cocktail\" and df[\"changes_lipids_phaseIII\"][idx] == \"up_Cocktail\" and df[\"changes_losing_expression\"][idx] == \"up_Cocktail\" and df[\"changes_pseudobulk\"][idx] == \"up_Cocktail\":\n",
    "        up_all.append(elem)\n",
    "\n",
    "lfc_b = []\n",
    "p_b = []\n",
    "for idx, elem in enumerate(df[\"gene_name\"]):\n",
    "    if df[\"changes_bile_sterols\"][idx] == \"up_Cocktail\":\n",
    "        bile.append(elem)\n",
    "        lfc_b.append(df[\"bile_sterols_Cocktail_log2FC\"][idx])\n",
    "        p_b.append(df[\"bile_sterols_Cocktail_pvals_adj\"][idx])\n",
    "lfc_c2 = []\n",
    "p_c2 = []\n",
    "for idx, elem in enumerate(df[\"gene_name\"]):\n",
    "    if df[\"changes_carbs_phaseII_stress\"][idx] == \"up_Cocktail\":\n",
    "        carbs.append(elem)\n",
    "        lfc_c2.append(df[\"carbs_phaseII_stress_Cocktail_log2FC\"][idx])\n",
    "        p_c2.append(df[\"carbs_phaseII_stress_Cocktail_pvals_adj\"][idx])\n",
    "lfc_l3 = []\n",
    "p_l3 = []\n",
    "for idx, elem in enumerate(df[\"gene_name\"]):\n",
    "    if df[\"changes_lipids_phaseIII\"][idx] == \"up_Cocktail\":\n",
    "        lipids.append(elem)\n",
    "        lfc_l3.append(df[\"lipids_phaseIII_Cocktail_log2FC\"][idx])\n",
    "        p_l3.append(df[\"lipids_phaseIII_Cocktail_pvals_adj\"][idx])\n",
    "lfc_0 = []\n",
    "p_0 = []\n",
    "for idx, elem in enumerate(df[\"gene_name\"]):\n",
    "    if df[\"changes_losing_expression\"][idx] == \"up_Cocktail\":\n",
    "        le.append(elem)\n",
    "        lfc_0.append(df[\"losing_expression_Cocktail_log2FC\"][idx])\n",
    "        p_0.append(df[\"losing_expression_Cocktail_pvals_adj\"][idx])"
   ]
  },
  {
   "cell_type": "code",
   "execution_count": null,
   "metadata": {},
   "outputs": [],
   "source": [
    "annot = []\n",
    "for elem in adata1.obs[\"subgroups\"]:\n",
    "    if elem == \"bile_sterols\":\n",
    "        annot.append(\"b\")\n",
    "    elif elem == \"carbs_phaseII_stress\":\n",
    "        annot.append(\"c2\")\n",
    "    elif elem == \"lipids_phaseIII\":\n",
    "        annot.append(\"l3\")\n",
    "    else:\n",
    "        annot.append(\"0\")\n",
    "adata1.obs[\"abbreviations\"] = annot\n",
    "\n",
    "annot = []\n",
    "for idx, elem in enumerate(adata1.obs[\"Treatment\"]):\n",
    "    annot.append(elem+\"_\"+adata1.obs[\"abbreviations\"][idx])\n",
    "adata1.obs[\"abbr_treatment\"] = annot"
   ]
  },
  {
   "cell_type": "code",
   "execution_count": null,
   "metadata": {},
   "outputs": [],
   "source": [
    "up_all_DMSO = []\n",
    "for idx, elem in enumerate(df[\"gene_name\"]):\n",
    "    if df[\"changes_bile_sterols\"][idx] == \"up_DMSO\" and df[\"changes_carbs_phaseII_stress\"][idx] == \"up_DMSO\" and df[\"changes_lipids_phaseIII\"][idx] == \"up_DMSO\" and df[\"changes_losing_expression\"][idx] == \"up_DMSO\" and df[\"changes_pseudobulk\"][idx] == \"up_DMSO\":\n",
    "        up_all_DMSO.append(elem)"
   ]
  },
  {
   "cell_type": "code",
   "execution_count": null,
   "metadata": {},
   "outputs": [],
   "source": [
    "to_plot = up_all\n",
    "for elem in [\"ATF3\",\"SRD5A2\",\"CYP2U1\",\"SLC4A7\",\"PLIN2\",\"OSGIN1\",\"MT1E\",\"FADS2\"]:\n",
    "    to_plot.append(elem)"
   ]
  },
  {
   "cell_type": "code",
   "execution_count": null,
   "metadata": {},
   "outputs": [],
   "source": [
    "for elem in up_all_DMSO:\n",
    "    up_all.append(elem)\n",
    "    to_plot.append(elem)"
   ]
  },
  {
   "cell_type": "code",
   "execution_count": null,
   "metadata": {},
   "outputs": [],
   "source": [
    "df2 = pd.DataFrame()\n",
    "lfc = []\n",
    "pval = []\n",
    "groups = []\n",
    "genes = []\n",
    "order = []\n",
    "\n",
    "for group in [\"bile_sterols\",\"carbs_phaseII_stress\",\"lipids_phaseIII\",\"losing_expression\"]:\n",
    "    for elem in list(set(adata1.obs[\"Treatment\"])):\n",
    "        if elem == \"Cocktail\":\n",
    "            for idx, gene in enumerate(to_plot):\n",
    "                lfc.append(np.float(df[df[\"gene_name\"] == gene][group+\"_Cocktail_log2FC\"]))\n",
    "                pval.append(-np.log10(np.float(df[df[\"gene_name\"] == gene][group+\"_Cocktail_pvals_adj\"])))\n",
    "                genes.append(gene)\n",
    "                groups.append(group)\n",
    "                order.append(idx)\n",
    "                \n",
    "df2[\"lfc_Cocktail\"] = lfc\n",
    "df2[\"pval_Cocktail\"] = pval\n",
    "df2[\"gene\"] = genes\n",
    "df2[\"group\"] = groups\n",
    "df2[\"order\"] = order"
   ]
  },
  {
   "cell_type": "code",
   "execution_count": null,
   "metadata": {},
   "outputs": [],
   "source": [
    "m = df2.loc[df2['pval_Cocktail'] != np.inf, 'pval_Cocktail'].max()\n",
    "df2['pval_Cocktail'].replace(np.inf,m,inplace=True)"
   ]
  },
  {
   "cell_type": "code",
   "execution_count": null,
   "metadata": {},
   "outputs": [],
   "source": [
    "import matplotlib"
   ]
  },
  {
   "cell_type": "code",
   "execution_count": null,
   "metadata": {},
   "outputs": [],
   "source": [
    "plt.rcParams['figure.figsize']=(4,9)\n",
    "\n",
    "colormap = sns.diverging_palette(265, 140, s=100, as_cmap=True) #or any other colormap\n",
    "normalize = matplotlib.colors.Normalize(vmin=-4.8, vmax=4.8)\n",
    "\n",
    "ordered_df = df2.sort_values(by='order', ascending=False)\n",
    "p = plt.scatter(x=ordered_df[\"group\"], y=ordered_df['gene'], c=ordered_df[\"lfc_Cocktail\"], \n",
    "                s=abs(ordered_df[\"lfc_Cocktail\"])*100,\n",
    "                cmap=colormap,\n",
    "                norm=normalize, \n",
    "                label='Cocktail')\n",
    "plt.colorbar()\n",
    "plt.legend(*p.legend_elements(\"sizes\", num=5),loc='lower left', bbox_to_anchor=(1.75, 0.8))\n",
    "plt.margins(x=0.1, y=0.03)\n",
    "plt.xticks(rotation=90)\n",
    "plt.savefig(\"dotplot_Figure2_C_logfoldchanges_more_genes_20220120.pdf\", bbox_inches=\"tight\")"
   ]
  },
  {
   "cell_type": "code",
   "execution_count": null,
   "metadata": {},
   "outputs": [],
   "source": [
    "set(adata.obs[\"subgroups\"])"
   ]
  },
  {
   "cell_type": "code",
   "execution_count": null,
   "metadata": {},
   "outputs": [],
   "source": [
    "df = adata.var[adata.var[\"losing_expression_Cocktail_n_cells\"] > 0]\n",
    "df = df[df[\"losing_expression_Vehicle_n_cells\"] > 0]"
   ]
  },
  {
   "cell_type": "code",
   "execution_count": null,
   "metadata": {},
   "outputs": [],
   "source": [
    "cols = []\n",
    "for elem in df[\"changes_losing_expression\"]:\n",
    "    if elem == \"up_Cocktail\":\n",
    "        cols.append(\"#279e68\")\n",
    "    elif elem == \"up_DMSO\":\n",
    "        cols.append(\"#888de4\")\n",
    "    else:\n",
    "        cols.append(\"0.75\")"
   ]
  },
  {
   "cell_type": "code",
   "execution_count": null,
   "metadata": {},
   "outputs": [],
   "source": [
    "df[\"pval_r\"] = -np.log10(df[\"losing_expression_Cocktail_pvals_adj\"])"
   ]
  },
  {
   "cell_type": "code",
   "execution_count": null,
   "metadata": {},
   "outputs": [],
   "source": [
    "m = df.loc[df['pval_r'] != np.inf, 'pval_r'].max()\n",
    "df['pval_r'].replace(np.inf,m,inplace=True)"
   ]
  },
  {
   "cell_type": "code",
   "execution_count": null,
   "metadata": {},
   "outputs": [],
   "source": [
    "import matplotlib"
   ]
  },
  {
   "cell_type": "code",
   "execution_count": null,
   "metadata": {},
   "outputs": [],
   "source": [
    "plt.rcParams['figure.figsize']=(7,7) #rescale figures\n",
    "sns.set_theme()\n",
    "font=matplotlib.font_manager.FontProperties()\n",
    "font.set_weight('normal')\n",
    "plt.scatter(y=-np.log10(df[\"losing_expression_Cocktail_pvals_adj\"]), x=df[\"losing_expression_Cocktail_log2FC\"],\n",
    "                  c=cols,alpha=0.7, marker=\"x\")\n",
    "\n",
    "#pb for i in up_all:\n",
    "#b for i in [\"SPINK1\",\"FGA\",\"ORM2\",\"GSTA2\",\"FGL1\",\"CYP1A1\",\"POR\",\"CYP1A2\",\"GNA13\",\"CYP2B6\"]:\n",
    "#c2 for i in [\"SPINK1\",\"ANGPTL3\",\"EEF1G\",\"GSTA2\",\"SERPINA3\",\"ALAS1\",\"POR\",\"MT1G\",\"MT1H\",\"GDF15\"]:\n",
    "#l3 for i in [\"FGA\",\"FGG\",\"CFB\",\"SERPING1\",\"SERPINA3\",\"PLIN2\",\"POR\",\"AKR1C1\",\"CYP1A1\",\"CYP1A2\"]:\n",
    "for i in [\"ANGPTL3\",\"ALB\",\"ADH1B\",\"SPINK1\",\"ASNS\",\"ALAS1\",\"FADS1\",\"MT2A\",\"MT1G\",\"CYP1A2\"]:\n",
    "    plt.text(df.loc[df[\"gene_name\"] == i, \"losing_expression_Cocktail_log2FC\"].iloc[0]+0.1, \n",
    "             df.loc[df[\"gene_name\"] == i, 'pval_r'].iloc[0]+0.1, i,\n",
    "             fontdict=dict(color='black', alpha=0.7, size=10, weight=\"normal\"))\n",
    "\n",
    "plt.savefig(\"volcano_Cocktail_vs_DMSO_losing_expression_genes.pdf\",bbox_inches=\"tight\")\n",
    "plt.show()"
   ]
  },
  {
   "cell_type": "code",
   "execution_count": null,
   "metadata": {},
   "outputs": [],
   "source": [
    "df1 = df[df[\"changes_losing_expression\"] == \"up_Cocktail\"]\n",
    "df1[\"pval_r\"] = -np.log10(df1[\"losing_expression_Cocktail_pvals_adj\"])\n",
    "df2 = df1[-np.log10(df1[\"losing_expression_Cocktail_pvals_adj\"]) > 36]\n",
    "#df2 = df2[df2[\"carbs_phaseII_stress_Cocktail_log2FC\"] < -1.5]\n",
    "df2"
   ]
  },
  {
   "cell_type": "code",
   "execution_count": null,
   "metadata": {},
   "outputs": [],
   "source": [
    "genes = {}\n",
    "genes[\"bile\"] = bile\n",
    "genes[\"carbs\"] = carbs\n",
    "genes[\"lipids\"] = lipids\n",
    "genes[\"losing_exp\"] = le"
   ]
  },
  {
   "cell_type": "code",
   "execution_count": null,
   "metadata": {},
   "outputs": [],
   "source": [
    "df1 = pd.DataFrame(dict([ (k,pd.Series(v)) for k,v in genes.items() ]))\n",
    "df1.to_csv(\"all_up_genes_per_subgroup_nov21.csv\")"
   ]
  },
  {
   "cell_type": "code",
   "execution_count": null,
   "metadata": {},
   "outputs": [],
   "source": [
    "df = pd.read_csv(\"differential_expression_Cocktail_vs_DMSO_nov21.csv\", index_col=0)"
   ]
  },
  {
   "cell_type": "code",
   "execution_count": null,
   "metadata": {},
   "outputs": [],
   "source": [
    "b_unique = []\n",
    "c_unique = []\n",
    "l_unique = []\n",
    "o_unique = []\n",
    "pb = []\n",
    "\n",
    "for idx, elem in enumerate(df[\"gene_name\"]):\n",
    "    if df[\"changes_bile_sterols\"][idx] == \"up_Cocktail\" and df[\"changes_carbs_phaseII_stress\"][idx] != \"up_Cocktail\" and df[\"changes_lipids_phaseIII\"][idx] != \"up_Cocktail\" and df[\"changes_losing_expression\"][idx] != \"up_Cocktail\":\n",
    "        b_unique.append(elem)\n",
    "    elif df[\"changes_bile_sterols\"][idx] != \"up_Cocktail\" and df[\"changes_carbs_phaseII_stress\"][idx] == \"up_Cocktail\" and df[\"changes_lipids_phaseIII\"][idx] != \"up_Cocktail\" and df[\"changes_losing_expression\"][idx] != \"up_Cocktail\":\n",
    "        c_unique.append(elem)\n",
    "    elif df[\"changes_bile_sterols\"][idx] != \"up_Cocktail\" and df[\"changes_carbs_phaseII_stress\"][idx] != \"up_Cocktail\" and df[\"changes_lipids_phaseIII\"][idx] == \"up_Cocktail\" and df[\"changes_losing_expression\"][idx] != \"up_Cocktail\":\n",
    "        l_unique.append(elem)\n",
    "    elif df[\"changes_bile_sterols\"][idx] != \"up_Cocktail\" and df[\"changes_carbs_phaseII_stress\"][idx] != \"up_Cocktail\" and df[\"changes_lipids_phaseIII\"][idx] != \"up_Cocktail\" and df[\"changes_losing_expression\"][idx] == \"up_Cocktail\":\n",
    "        o_unique.append(elem)\n",
    "\n",
    "for idx, elem in enumerate(df[\"gene_name\"]):\n",
    "    if df[\"changes_pseudobulk\"][idx] == \"up_Cocktail\":\n",
    "        pb.append(elem)"
   ]
  },
  {
   "cell_type": "code",
   "execution_count": null,
   "metadata": {},
   "outputs": [],
   "source": [
    "unique_genes = {}\n",
    "unique_genes[\"bile\"] = b_unique\n",
    "unique_genes[\"carbs\"] = c_unique\n",
    "unique_genes[\"lipids\"] = l_unique\n",
    "unique_genes[\"losing_exp\"] = o_unique"
   ]
  },
  {
   "cell_type": "code",
   "execution_count": null,
   "metadata": {},
   "outputs": [],
   "source": [
    "df = pd.DataFrame(dict([ (k,pd.Series(v)) for k,v in unique_genes.items() ]))\n",
    "df.to_csv(\"unique_genes_Cocktail_per_subgroup_nov21.csv\")"
   ]
  },
  {
   "cell_type": "code",
   "execution_count": null,
   "metadata": {},
   "outputs": [],
   "source": [
    "genes = {\"bile\":set(bile),\n",
    "         \"carbs\":set(carbs),\n",
    "         \"lipids\":set(lipids),\n",
    "         \"losing_exp\":set(le)}"
   ]
  },
  {
   "cell_type": "code",
   "execution_count": null,
   "metadata": {},
   "outputs": [],
   "source": [
    "from venn import venn"
   ]
  },
  {
   "cell_type": "code",
   "execution_count": null,
   "metadata": {},
   "outputs": [],
   "source": [
    "venn(genes, legend_loc=\"upper left\", fontsize=8.5, #fmt=\"{percentage:.1f}%\", \n",
    "     cmap=[\"#ff7f0e\",\"#1f77b4\",\"#17b2b1\",\"#9b1c03\"])\n",
    "plt.savefig(\"venn_overlap_significant_genes_Cocktail_vs_DMSO_20211129.pdf\", bbox_inches=\"tight\")"
   ]
  },
  {
   "cell_type": "code",
   "execution_count": null,
   "metadata": {},
   "outputs": [],
   "source": [
    "df = pd.crosstab(adata1.obs[\"subgroups\"], adata1.obs[\"Treatment\"], margins = False)\n",
    "df['Vehicle'] = df['Vehicle'].div(9820)\n",
    "df[\"Cocktail\"] = df[\"Cocktail\"].div(6122)"
   ]
  },
  {
   "cell_type": "code",
   "execution_count": null,
   "metadata": {},
   "outputs": [],
   "source": [
    "df"
   ]
  },
  {
   "cell_type": "code",
   "execution_count": null,
   "metadata": {},
   "outputs": [],
   "source": [
    "# Data\n",
    "r = np.arange(4)\n",
    " \n",
    "# From raw value to percentage\n",
    "totals = [i+j for i,j in zip(df['Vehicle'], df['Cocktail'])]\n",
    "\n",
    "DMSO = [i / j * 100 for i,j in zip(df['Vehicle'], totals)]\n",
    "Cocktail = [i / j * 100 for i,j in zip(df['Cocktail'], totals)]\n",
    "\n",
    "# plot\n",
    "barWidth = 0.85\n",
    "names = ('bile_sterols','carbohydrates_phaseII',\"lipids_phaseIII\",\"losing_exp\")\n",
    "\n",
    "# Create bars\n",
    "plt.bar(r, DMSO, width=barWidth, label=\"DMSO\", color=\"#888de4\")\n",
    "plt.bar(r, Cocktail, bottom=DMSO, width=barWidth, label=\"Cocktail\", color=\"#279e68\")\n",
    "\n",
    "    \n",
    "# Custom x axis\n",
    "plt.xticks(r, names)\n",
    "#plt.xlabel(\"group\")\n",
    "plt.xticks(rotation=90)\n",
    "plt.legend(loc='upper left', bbox_to_anchor=(1,1), ncol=1)\n",
    "\n",
    "# Show graphic\n",
    "plt.savefig(\"barplot_percentage_DMSO_and_Cocktail_per_subgroup_20211130.pdf\", bbox_inches=\"tight\")\n",
    "plt.show()"
   ]
  },
  {
   "cell_type": "code",
   "execution_count": null,
   "metadata": {},
   "outputs": [],
   "source": [
    "df0 = pd.read_csv(\"enrichment_losing_expression.csv\")\n",
    "df0[\"group\"] = \"losing_expression\"\n",
    "df1 = pd.read_csv(\"enrichment_bile_sterols.csv\")\n",
    "df1[\"group\"] = \"bile_sterols\"\n",
    "df2 = pd.read_csv(\"enrichment_carbs_phaseII.csv\")\n",
    "df2[\"group\"] = \"carbs_phaseII\"\n",
    "df3 = pd.read_csv(\"enrichment_lipids_phaseIII.csv\")\n",
    "df3[\"group\"] = \"lipids_phaseIII\"\n",
    "\n",
    "df = df1.append(df2, ignore_index=True)\n",
    "df = df.append(df3, ignore_index=True)\n",
    "#df = df.append(df0, ignore_index=True)"
   ]
  },
  {
   "cell_type": "code",
   "execution_count": null,
   "metadata": {},
   "outputs": [],
   "source": [
    "df"
   ]
  },
  {
   "cell_type": "code",
   "execution_count": null,
   "metadata": {},
   "outputs": [],
   "source": [
    "def scale_data_5_75(data):\n",
    "    mind = np.min(data)\n",
    "    maxd = np.max(data)\n",
    "    \n",
    "    if maxd == mind:\n",
    "        maxd=maxd+1\n",
    "        mind=mind-1\n",
    "        \n",
    "    drange = maxd - mind\n",
    "    return ((((data - mind)/drange*0.70)+0.05)*100)\n"
   ]
  },
  {
   "cell_type": "code",
   "execution_count": null,
   "metadata": {},
   "outputs": [],
   "source": [
    "df['scaled.overlap'] = scale_data_5_75(df['nGenes'])"
   ]
  },
  {
   "cell_type": "code",
   "execution_count": null,
   "metadata": {},
   "outputs": [],
   "source": [
    "df[\"log_p\"] = -np.log10(df[\"Enrichment FDR\"])"
   ]
  },
  {
   "cell_type": "code",
   "execution_count": null,
   "metadata": {},
   "outputs": [],
   "source": [
    "ordered_df = df.sort_values(by=\"log_p\", ascending=True)"
   ]
  },
  {
   "cell_type": "code",
   "execution_count": null,
   "metadata": {},
   "outputs": [],
   "source": [
    "plt.rcParams['figure.figsize']=(25,6)\n",
    "\n",
    "D_id_color = {'bile_sterols': '#ff7f0e', 'carbs_phaseII': '#1f77b4', \n",
    "              'lipids_phaseIII': '#17b2b1', 'losing_expression': '#9b1c03'}\n",
    "\n",
    "#color_map = [color for color in D_id_color.values()]\n",
    "#plt.scatter(x_coordinates,y_coordinates, s = size_map, c = color_map)\n",
    "\n",
    "ax = sns.scatterplot(data=ordered_df, y=-np.log10(ordered_df['Enrichment FDR']), \n",
    "                     x='Pathway', hue='group', linewidth=.01, palette=D_id_color,\n",
    "                     edgecolor=\"lightgrey\", alpha=0.99,\n",
    "                     s=[(i+10)**1.15 for i in df['scaled.overlap']])\n",
    "\n",
    "\n",
    "plt.xticks(rotation=75, horizontalalignment='right', fontweight='light', fontsize='medium')\n",
    "plt.yticks(rotation=0, fontweight=\"light\", fontsize=\"medium\")\n",
    "#ax.set_xticklabels(ax.get_xticklabels(), rotation=45, horizontalalignment='right')\n",
    "\n",
    "min_olap = ordered_df['scaled.overlap'].min()\n",
    "max_olap = ordered_df['scaled.overlap'].max()\n",
    "olap_range = max_olap - min_olap\n",
    "\n",
    "size_leg_vals = [np.round(i/5)*5 for i in [min_olap, min_olap+(20/70)*olap_range, min_olap+(45/70)*olap_range, max_olap]]\n",
    "size_leg_scaled_vals = scale_data_5_75(size_leg_vals)\n",
    "\n",
    "    \n",
    "l1 = ax.scatter([],[], s=(size_leg_scaled_vals[0]+10)**1.15, edgecolors='none', color='black')\n",
    "l2 = ax.scatter([],[], s=(size_leg_scaled_vals[1]+10)**1.15, edgecolors='none', color='black')\n",
    "l3 = ax.scatter([],[], s=(size_leg_scaled_vals[2]+10)**1.15, edgecolors='none', color='black')\n",
    "l4 = ax.scatter([],[], s=(size_leg_scaled_vals[3]+10)**1.15, edgecolors='none', color='black')\n",
    "\n",
    "labels = [str(int(i)) for i in size_leg_vals]\n",
    "\n",
    "leg = plt.legend([l1, l2, l3, l4], labels, ncol=1, frameon=False, fontsize=12,\n",
    "                 handlelength=1, loc = 'lower right', borderpad = 1, labelspacing = 1,\n",
    "                 handletextpad=2, title='Gene overlap', scatterpoints = 1,  bbox_to_anchor=(1, 1), \n",
    "                 facecolor='black')\n",
    "\n",
    "plt.margins(x=0.02, y=0.02)\n",
    "\n",
    "plt.savefig(\"drugCTD_terms_active_groups_20211130.pdf\", bbox_inches=\"tight\")\n",
    "plt.show()"
   ]
  },
  {
   "cell_type": "markdown",
   "metadata": {},
   "source": [
    "# 3) Comparing FFA vs DMSO"
   ]
  },
  {
   "cell_type": "code",
   "execution_count": null,
   "metadata": {},
   "outputs": [],
   "source": [
    "adata1 = adata[adata.obs[\"cocktail_annot\"] == \"no_Cocktail\"]\n",
    "adata1.obs[\"group\"] = \"pseudobulk\""
   ]
  },
  {
   "cell_type": "code",
   "execution_count": null,
   "metadata": {},
   "outputs": [],
   "source": [
    "adataL3 = adata1[adata1.obs[\"subgroups\"] == \"lipids_phaseIII\"]\n",
    "adataL3.obs[\"group\"] = \"lipids_phaseIII\"\n",
    "adataC2 = adata1[adata1.obs[\"subgroups\"] == \"carbs_phaseII_stress\"]\n",
    "adataC2.obs[\"group\"] = \"carbs_phaseII_stress\"\n",
    "adataB = adata1[adata1.obs[\"subgroups\"] == \"bile_sterols\"]\n",
    "adataB.obs[\"group\"] = \"bile_sterols\"\n",
    "adata0 = adata1[adata1.obs[\"subgroups\"] == \"losing_expression\"]\n",
    "adata0.obs[\"group\"] = \"losing_expression\""
   ]
  },
  {
   "cell_type": "code",
   "execution_count": null,
   "metadata": {},
   "outputs": [],
   "source": [
    "df = pd.crosstab(adata1.obs[\"subgroups\"], adata1.obs[\"Treatment\"], margins = True)\n",
    "#df['Vehicle'] = df['Vehicle'].div(9820)\n",
    "#df[\"FFA_Vehicle\"] = df[\"FFA_Vehicle\"].div(11736)"
   ]
  },
  {
   "cell_type": "code",
   "execution_count": null,
   "metadata": {},
   "outputs": [],
   "source": [
    "df"
   ]
  },
  {
   "cell_type": "code",
   "execution_count": null,
   "metadata": {},
   "outputs": [],
   "source": [
    "#### Data\n",
    "r = np.arange(4)\n",
    " \n",
    "# From raw value to percentage\n",
    "totals = [i+j for i,j in zip(df['Vehicle'], df['FFA_Vehicle'])]\n",
    "\n",
    "DMSO = [i / j * 100 for i,j in zip(df['Vehicle'], totals)]\n",
    "Cocktail = [i / j * 100 for i,j in zip(df['FFA_Vehicle'], totals)]\n",
    "\n",
    "# plot\n",
    "barWidth = 0.85\n",
    "names = ('bile_sterols','carbohydrates_phaseII',\"lipids_phaseIII\",\"losing_exp\")\n",
    "\n",
    "# Create bars\n",
    "plt.bar(r, DMSO, width=barWidth, label=\"DMSO\", color=\"#888de4\")\n",
    "plt.bar(r, Cocktail, bottom=DMSO, width=barWidth, label=\"FFA\", color=\"#deb82c\")\n",
    "\n",
    "    \n",
    "# Custom x axis\n",
    "plt.xticks(r, names)\n",
    "#plt.xlabel(\"group\")\n",
    "plt.xticks(rotation=90)\n",
    "plt.legend(loc='upper left', bbox_to_anchor=(1,1), ncol=1)\n",
    "\n",
    "# Show graphic\n",
    "#plt.savefig(\"barplot_percentage_DMSO_and_FFA_per_subgroup_20211130.pdf\", bbox_inches=\"tight\")\n",
    "plt.show()"
   ]
  },
  {
   "cell_type": "code",
   "execution_count": null,
   "metadata": {},
   "outputs": [],
   "source": [
    "df = pd.crosstab(adata1.obs[\"Treatment\"], adata1.obs[\"subgroups\"], margins = False)\n",
    "df['bile_sterols'] = df['bile_sterols'].div(7177)\n",
    "df[\"carbs_phaseII_stress\"] = df[\"carbs_phaseII_stress\"].div(8659)\n",
    "df[\"lipids_phaseIII\"] = df[\"lipids_phaseIII\"].div(1055)\n",
    "df[\"losing_expression\"] = df[\"losing_expression\"].div(4665)"
   ]
  },
  {
   "cell_type": "code",
   "execution_count": null,
   "metadata": {},
   "outputs": [],
   "source": [
    "adata.uns[\"Treatment_colors\"]"
   ]
  },
  {
   "cell_type": "code",
   "execution_count": null,
   "metadata": {},
   "outputs": [],
   "source": [
    "#### Data\n",
    "r = np.arange(2)\n",
    " \n",
    "# From raw value to percentage\n",
    "totals = [i+j+k+l for i,j,k,l in zip(df['bile_sterols'], df['carbs_phaseII_stress'],\n",
    "                                    df['lipids_phaseIII'], df['losing_expression'])]\n",
    "\n",
    "bile = [i / j * 100 for i,j in zip(df['bile_sterols'], totals)]\n",
    "carbs = [i / j * 100 for i,j in zip(df['carbs_phaseII_stress'], totals)]\n",
    "lipids = [i / j * 100 for i,j in zip(df['lipids_phaseIII'], totals)]\n",
    "losing_exp = [i / j * 100 for i,j in zip(df['losing_expression'], totals)]\n",
    "\n",
    "# plot\n",
    "barWidth = 0.85\n",
    "names = ('DMSO','FFA')\n",
    "\n",
    "# Create bars\n",
    "plt.bar(r, bile, width=barWidth, label=\"I\", color=\"#ff7f0e\")\n",
    "plt.bar(r, carbs, bottom=bile, width=barWidth, label=\"II\", color=\"#1f77b4\")\n",
    "plt.bar(r, lipids, bottom=[i+j for i,j in zip(bile, carbs)], width=barWidth, label=\"III\",color='#17b2b1')\n",
    "plt.bar(r, losing_exp, bottom=[i+j+k for i,j,k in zip(bile, carbs, lipids)], width=barWidth,\n",
    "        label=\"IV\", color=\"#9b1c03\")\n",
    "\n",
    "    \n",
    "# Custom x axis\n",
    "plt.xticks(r, names)\n",
    "#plt.xlabel(\"group\")\n",
    "plt.xticks(rotation=90)\n",
    "plt.legend(loc='upper left', bbox_to_anchor=(1,1), ncol=1)\n",
    "\n",
    "# Show graphic\n",
    "plt.savefig(\"barplot_percentage_subgroup_per_DMSO_and_FFA_20220301.pdf\", bbox_inches=\"tight\")\n",
    "plt.show()"
   ]
  },
  {
   "cell_type": "code",
   "execution_count": null,
   "metadata": {},
   "outputs": [],
   "source": [
    "for i in [adataB,adataC2,adataL3,adata0, adata1]:\n",
    "    sc.tl.rank_genes_groups(i, groupby=\"Treatment\", \n",
    "                       n_genes=len(adata.var), use_raw=True)\n",
    "\n",
    "    dict_genes = i.uns[\"rank_genes_groups\"].copy()\n",
    "\n",
    "    df = {}\n",
    "    for idx, elem in enumerate(list(dict_genes[\"names\"].dtype.names)):\n",
    "        print(idx, elem)\n",
    "        df[elem+\"_gene\"] = []\n",
    "        df[elem+\"_logfoldchange\"] = []\n",
    "        df[elem+\"_pval_adj\"] = []\n",
    "        for j in range(0, len(adata.var)):\n",
    "            df[elem+\"_gene\"].append(dict_genes[\"names\"][j][idx])\n",
    "            df[elem+\"_logfoldchange\"].append(dict_genes[\"logfoldchanges\"][j][idx])\n",
    "            df[elem+\"_pval_adj\"].append(dict_genes[\"pvals_adj\"][j][idx])\n",
    "\n",
    "    dataframe = pd.DataFrame(df)        \n",
    "    for idx, elem in enumerate(list(dict_genes[\"names\"].dtype.names)):\n",
    "        adata.var[str(i.obs[\"group\"][0])+\"_\"+elem+\"_mean\"] = np.mean(i[i.obs[\"Treatment\"] == elem,:].X, axis=0)\n",
    "        adata.var[str(i.obs[\"group\"][0])+\"_\"+elem+\"_n_cells\"] = np.sum(i[i.obs[\"Treatment\"] == elem,:].X > 0, axis=0)\n",
    "        dataframe.index = dataframe[elem+\"_gene\"]\n",
    "        adata.var[str(i.obs[\"group\"][0])+\"_\"+elem+\"_log2FC\"] = dataframe[elem+\"_logfoldchange\"]\n",
    "        adata.var[str(i.obs[\"group\"][0])+\"_\"+elem+\"_pvals_adj\"] = dataframe[elem+\"_pval_adj\"]"
   ]
  },
  {
   "cell_type": "code",
   "execution_count": null,
   "metadata": {},
   "outputs": [],
   "source": [
    "for elem in [\"bile_sterols\",\"carbs_phaseII_stress\",\"lipids_phaseIII\",\n",
    "             \"losing_expression\",\"pseudobulk\"]:\n",
    "    changes = []\n",
    "    for j in range(0, len(adata.var)):\n",
    "        if adata.var[elem+\"_FFA_Vehicle_log2FC\"][j] > 0.75 and adata.var[elem+\"_FFA_Vehicle_pvals_adj\"][j] < 0.05:\n",
    "            changes.append(\"up_FFA\")\n",
    "        elif adata.var[elem+\"_FFA_Vehicle_log2FC\"][j] < -0.75 and adata.var[elem+\"_FFA_Vehicle_pvals_adj\"][j] < 0.05:\n",
    "            changes.append(\"up_DMSO\")\n",
    "        else:\n",
    "            changes.append(\"none\")\n",
    "        \n",
    "    adata.var[\"changes_\"+elem] = changes  "
   ]
  },
  {
   "cell_type": "code",
   "execution_count": null,
   "metadata": {},
   "outputs": [],
   "source": [
    "adata.var.to_csv(\"differential_expression_FFA_vs_DMSO_075_nov21.csv\")"
   ]
  },
  {
   "cell_type": "code",
   "execution_count": null,
   "metadata": {},
   "outputs": [],
   "source": [
    "genes = []\n",
    "for idx, elem in enumerate(adata.var[\"changes_bile_sterols\"].tolist()):\n",
    "    if elem == \"up_FFA\":\n",
    "        genes.append(adata.var[\"gene_name\"][idx])"
   ]
  },
  {
   "cell_type": "code",
   "execution_count": null,
   "metadata": {},
   "outputs": [],
   "source": [
    "from gprofiler import gprofiler\n",
    "import custom_functions as cf"
   ]
  },
  {
   "cell_type": "code",
   "execution_count": null,
   "metadata": {},
   "outputs": [],
   "source": [
    "plt.rcParams['figure.figsize']=(10,8) #rescale figures\n",
    "genes = genes\n",
    "    \n",
    "#Interpretation of differentially expressed genes in paneth cells - g:profiler\n",
    "gp = gprofiler(genes, organism='hsapiens')\n",
    "gp = gp[gp[\"domain\"] == \"BP\"]\n",
    "\n",
    "gp_enrichment = gp.sort_values('p.value').iloc[:,[2,3,5,6,11]]\n",
    "gp_enrichment['name']= gp_enrichment['term.name'].copy()\n",
    "gp_enrichment['p_value']= gp_enrichment['p.value'].copy()\n",
    "gp_enrichment['intersection_size']= gp_enrichment['overlap.size'].copy()\n",
    "del gp_enrichment['term.name'], gp_enrichment['overlap.size'], gp_enrichment['p.value']\n",
    "\n",
    "cf.plot_enrich(gp_enrichment, save='GO_bile_sterols_FFA_vs_DMSO_075_20211130.pdf')"
   ]
  },
  {
   "cell_type": "code",
   "execution_count": null,
   "metadata": {},
   "outputs": [],
   "source": [
    "df = adata.var[adata.var[\"pseudobulk_FFA_Vehicle_n_cells\"] > 0]\n",
    "df = df[df[\"pseudobulk_Vehicle_n_cells\"] > 0]"
   ]
  },
  {
   "cell_type": "code",
   "execution_count": null,
   "metadata": {},
   "outputs": [],
   "source": [
    "cols = []\n",
    "for elem in df[\"changes_pseudobulk\"]:\n",
    "    if elem == \"up_FFA\":\n",
    "        cols.append(\"#deb82c\")\n",
    "    elif elem == \"up_DMSO\":\n",
    "        cols.append(\"#888de4\")\n",
    "    else:\n",
    "        cols.append(\"0.75\")"
   ]
  },
  {
   "cell_type": "code",
   "execution_count": null,
   "metadata": {},
   "outputs": [],
   "source": [
    "df[\"pval_r\"] = -np.log10(df[\"pseudobulk_FFA_Vehicle_pvals_adj\"])"
   ]
  },
  {
   "cell_type": "code",
   "execution_count": null,
   "metadata": {},
   "outputs": [],
   "source": [
    "m = df.loc[df['pval_r'] != np.inf, 'pval_r'].max()\n",
    "df['pval_r'].replace(np.inf,m,inplace=True)"
   ]
  },
  {
   "cell_type": "code",
   "execution_count": null,
   "metadata": {},
   "outputs": [],
   "source": [
    "plt.rcParams['figure.figsize']=(7,7) #rescale figures\n",
    "sns.set_theme()\n",
    "font=matplotlib.font_manager.FontProperties()\n",
    "font.set_weight('normal')\n",
    "plt.scatter(y=-np.log10(df[\"pseudobulk_FFA_Vehicle_pvals_adj\"]), \n",
    "            x=df[\"pseudobulk_FFA_Vehicle_log2FC\"],\n",
    "            c=cols,alpha=0.7, marker=\"x\")\n",
    "\n",
    "#0 for i in [\"RPS14\",\"RPS18\",\"RPLP1\",\"RPL13\",\"RPL28\",\"SPTBN1\",\"ACSL1\",\"METTL7A\",\"ADH1B\",\"SPINK1\"]:\n",
    "#l3 for i in [\"SERPINA3\",\"CFB\",\"RPL17\",\"ONECUT1\",\"DDT\",\"PLIN2\",\"ACADVL\",\"AC124319.1\",\"VNN1\",\"TAF1D\"]:\n",
    "#c2 for i in [\"ANGPTL3\",\"FGG\",\"SPINK1\",\"GSTA2\",\"FGL1\",\"PLIN2\",\"FABP1\",\"APOC3\",\"TPM1\",\"LGALS1\"]:\n",
    "#b for i in [\"AZGP1\",\"AMBP\",\"SPINK1\",\"GSTA2\",\"ORM2\",\"PLIN2\",\"VNN1\",\"TNFAIP3\",\"TPM1\",\"CYP2A7\"]:\n",
    "for i in [\"FGA\",\"FGG\",\"SPINK1\",\"SERPING1\",\"FGL1\",\"PLIN2\",\"HSPB1\",\"AKR1C1\",\"TPM1\",\"ANKRD1\"]:\n",
    "    plt.text(df.loc[df[\"gene_name\"] == i, \"pseudobulk_FFA_Vehicle_log2FC\"].iloc[0]+0.1, \n",
    "             df.loc[df[\"gene_name\"] == i, 'pval_r'].iloc[0]+0.1, i,\n",
    "             fontdict=dict(color='black', alpha=0.7, size=10, weight=\"normal\"))\n",
    "\n",
    "plt.savefig(\"volcano_FFA_vs_DMSO_pseudobulk.pdf\",bbox_inches=\"tight\")\n",
    "plt.show()"
   ]
  },
  {
   "cell_type": "code",
   "execution_count": null,
   "metadata": {},
   "outputs": [],
   "source": [
    "df1 = df[df[\"changes_pseudobulk\"] == \"up_FFA\"]\n",
    "df1[\"pval_r\"] = -np.log10(df1[\"pseudobulk_FFA_Vehicle_pvals_adj\"])\n",
    "df2 = df1[-np.log10(df1[\"pseudobulk_FFA_Vehicle_pvals_adj\"]) > 150]\n",
    "df2 = df2[df2[\"pseudobulk_FFA_Vehicle_log2FC\"] > 1]\n",
    "df2"
   ]
  },
  {
   "cell_type": "code",
   "execution_count": null,
   "metadata": {},
   "outputs": [],
   "source": [
    "sc.pl.stacked_violin(adataB, groupby=\"subgroup_treatment\", \n",
    "                     var_names=[\"CYP8B1\",\"HSD17B4\",\"HSD3B7\",\"HMGCS2\",\"CYP27A1\", \n",
    "                                \"PLIN2\",\"VNN1\",\"TNFAIP3\",\"TPM1\",\"CYP2A7\"],\n",
    "                     swap_axes=True,\n",
    "                     figsize=(3.5,5),\n",
    "                     cmap=\"YlGnBu\",\n",
    "                     standard_scale=\"var\", save=\"bile_sterols_FFA_vs_DMSO_markers_and_DEGs_20211130.pdf\")"
   ]
  },
  {
   "cell_type": "code",
   "execution_count": null,
   "metadata": {},
   "outputs": [],
   "source": [
    "sc.pl.stacked_violin(adataC2, groupby=\"subgroup_treatment\", \n",
    "                     var_names=[\"LDHA\",\"GSTO1\",\"SULT2A1\",\"GSTZ1\",\"GAMT\",\n",
    "                               \"PLIN2\",\"FABP1\",\"APOC3\",\"TPM1\",\"LGALS1\"],\n",
    "                     swap_axes=True,\n",
    "                     figsize=(3.5,5),\n",
    "                     cmap=\"YlGnBu\",\n",
    "                     standard_scale=\"var\", save=\"carbs_phaseII_stress_FFA_vs_DMSO_markers_and_DEGs_20211213.pdf\")"
   ]
  },
  {
   "cell_type": "code",
   "execution_count": null,
   "metadata": {},
   "outputs": [],
   "source": [
    "sc.pl.stacked_violin(adataL3, groupby=\"subgroup_treatment\", \n",
    "                     var_names=[\"ABCC3\",\"ABCC2\",\"PLIN5\",\"MLXIPL\",\"LDLR\", #APOB\n",
    "                               \"PLIN2\",\"ACADVL\",\"AC124319.1\",\"VNN1\",\"TAF1D\"],\n",
    "                     swap_axes=True,\n",
    "                     figsize=(3.5,5),\n",
    "                     cmap=\"YlGnBu\",\n",
    "                     standard_scale=\"var\", save=\"lipids_phaseIII_FFA_vs_DMSO_markers_and_DEGs_20211213.pdf\")"
   ]
  },
  {
   "cell_type": "code",
   "execution_count": null,
   "metadata": {},
   "outputs": [],
   "source": [
    "genes = [\"APOB\",\"APOE\",\"APOA1\",\"APOH\",\"APOA2\",\n",
    "         \"PLIN2\",\"PLIN5\",\"ELOVL6\",\"PLIN4\",\n",
    "         \"CYP2A6\",\"CYP2J2\",\"CYP7A1\",\"CYP4A11\",\n",
    "         \"CIDEC\",\"CPEB4\",\"GNAI3\",\"SCD\",\n",
    "         \"DUSP1\",\"NFE2L2\",\"SERPINE1\",\"TNFAIP3\",\n",
    "         \"ATF4\",\"DDIT3\",\"LGALS1\",\"MT1H\"]"
   ]
  },
  {
   "cell_type": "code",
   "execution_count": null,
   "metadata": {},
   "outputs": [],
   "source": [
    "sc.pl.matrixplot(adata1, groupby=\"subgroup_treatment\", var_names=genes, swap_axes=True,\n",
    "                 #standard_scale=\"var\",\n",
    "                 log=True,\n",
    "                 cmap=\"YlGnBu\",\n",
    "                 save=\"_individual_genes_unscaled_log_fig3_20211213.pdf\")"
   ]
  },
  {
   "cell_type": "code",
   "execution_count": null,
   "metadata": {},
   "outputs": [],
   "source": []
  },
  {
   "cell_type": "code",
   "execution_count": null,
   "metadata": {},
   "outputs": [],
   "source": [
    "adata2 = adata1.copy()"
   ]
  },
  {
   "cell_type": "code",
   "execution_count": null,
   "metadata": {},
   "outputs": [],
   "source": [
    "adata2.var[\"mean_norm_counts\"] = np.mean(adata2.X, axis=0)"
   ]
  },
  {
   "cell_type": "code",
   "execution_count": null,
   "metadata": {},
   "outputs": [],
   "source": [
    "adata2 = adata2[:,adata2.var[\"mean_norm_counts\"] > 0.25].copy()"
   ]
  },
  {
   "cell_type": "code",
   "execution_count": null,
   "metadata": {},
   "outputs": [],
   "source": [
    "df = pd.DataFrame()\n",
    "df2 = pd.DataFrame()\n",
    "df3 = pd.DataFrame()\n",
    "for elem in list(set(adata2.obs[\"subgroup_treatment\"])):\n",
    "    print(elem)\n",
    "    adata2.var[\"mean_\"+elem] = np.mean(adata2[adata2.obs[\"subgroup_treatment\"] == elem,:].layers[\"norm_counts\"], axis=0)\n",
    "    adata2.var[\"CV_\"+elem] = np.sqrt(np.exp(np.std(adata2[adata2.obs[\"subgroup_treatment\"] == elem,:].X, axis=0)**2)-1)\n",
    "    df[\"CV_\"+elem] = np.sqrt(np.exp(np.std(adata2[adata2.obs[\"subgroup_treatment\"] == elem,:].X, axis=0)**2)-1)\n",
    "    print(np.median(df[\"CV_\"+elem]))\n",
    "    df2[\"mean_\"+elem] = np.mean(adata2[adata2.obs[\"subgroup_treatment\"] == elem,:].X, axis=0)"
   ]
  },
  {
   "cell_type": "code",
   "execution_count": null,
   "metadata": {},
   "outputs": [],
   "source": [
    "df1 = df.unstack().reset_index() "
   ]
  },
  {
   "cell_type": "code",
   "execution_count": null,
   "metadata": {},
   "outputs": [],
   "source": [
    "ordered_df = df1.sort_values(by='level_0')\n"
   ]
  },
  {
   "cell_type": "code",
   "execution_count": null,
   "metadata": {},
   "outputs": [],
   "source": [
    "# use same colors as in the tSNE\n",
    "cols = {\"CV_carbs_phaseII_stress_2FFA\":'#deb82c',\n",
    "        \"CV_carbs_phaseII_stress_1DMSO\":'#888de4', \"CV_losing_expression_2FFA\":'#deb82c',\n",
    "        \"CV_losing_expression_1DMSO\":'#888de4', \n",
    "        \"CV_lipids_phaseIII_1DMSO\":'#888de4', \"CV_lipids_phaseIII_1DMSO\":'#888de4',\n",
    "        \"CV_bile_sterols_1DMSO\":'#888de4', \n",
    "        \"CV_bile_sterols_2FFA\":'#deb82c', \"CV_lipids_phaseIII_2FFA\":'#deb82c'}\n",
    "p = sns.boxplot(x=\"level_0\", y=0, data=ordered_df, palette=cols)\n",
    "p.set_xticklabels(p.get_xticklabels(), rotation=45, horizontalalignment='right')\n",
    "box = p.get_position()\n",
    "p.set_position([box.x0, box.y0, box.width * 1, box.height * 0.5])\n",
    "plt.yscale(\"log\")\n",
    "plt.savefig(\"coefficient_of_variation_per_group_and_treatment_FFA_vs_DMSO_colored_by_treatment_20211130.pdf\", bbox_inches=\"tight\")"
   ]
  },
  {
   "cell_type": "code",
   "execution_count": null,
   "metadata": {},
   "outputs": [],
   "source": [
    "from scipy import stats"
   ]
  },
  {
   "cell_type": "code",
   "execution_count": null,
   "metadata": {},
   "outputs": [],
   "source": [
    "stats.mannwhitneyu(df[\"CV_bile_sterols_1DMSO\"].dropna(), df[\"CV_bile_sterols_2FFA\"].dropna())[1]*3130"
   ]
  },
  {
   "cell_type": "markdown",
   "metadata": {},
   "source": [
    "# 4) Comparison between FFA_Cocktail, Cocktail and DMSO"
   ]
  },
  {
   "cell_type": "code",
   "execution_count": null,
   "metadata": {},
   "outputs": [],
   "source": [
    "adata1 = adata[adata.obs[\"Treatment\"] != \"FFA_Vehicle\"]\n",
    "adata2 = adata1[adata1.obs[\"Treatment\"] != \"Cocktail\"]\n",
    "adata2.obs[\"group\"] = \"pseudobulk\""
   ]
  },
  {
   "cell_type": "code",
   "execution_count": null,
   "metadata": {},
   "outputs": [],
   "source": [
    "adataL3 = adata2[adata2.obs[\"subgroups\"] == \"lipids_phaseIII\"]\n",
    "adataL3.obs[\"group\"] = \"lipids_phaseIII\"\n",
    "adataC2 = adata2[adata2.obs[\"subgroups\"] == \"carbs_phaseII_stress\"]\n",
    "adataC2.obs[\"group\"] = \"carbs_phaseII_stress\"\n",
    "adataB = adata2[adata2.obs[\"subgroups\"] == \"bile_sterols\"]\n",
    "adataB.obs[\"group\"] = \"bile_sterols\"\n",
    "adata0 = adata2[adata2.obs[\"subgroups\"] == \"losing_expression\"]\n",
    "adata0.obs[\"group\"] = \"losing_expression\""
   ]
  },
  {
   "cell_type": "code",
   "execution_count": null,
   "metadata": {},
   "outputs": [],
   "source": [
    "for i in [adataB,adataC2,adataL3,adata0, adata2]:\n",
    "    sc.tl.rank_genes_groups(i, groupby=\"Treatment\", #groups=[\"Cocktail\"], reference=\"Vehicle\",\n",
    "                       n_genes=len(adata.var), use_raw=True)\n",
    "\n",
    "    dict_genes = i.uns[\"rank_genes_groups\"].copy()\n",
    "\n",
    "    df = {}\n",
    "    for idx, elem in enumerate(list(dict_genes[\"names\"].dtype.names)):\n",
    "        print(idx, elem)\n",
    "        df[elem+\"_gene\"] = []\n",
    "        df[elem+\"_logfoldchange\"] = []\n",
    "        df[elem+\"_pval_adj\"] = []\n",
    "        for j in range(0, len(adata.var)):\n",
    "            df[elem+\"_gene\"].append(dict_genes[\"names\"][j][idx])\n",
    "            df[elem+\"_logfoldchange\"].append(dict_genes[\"logfoldchanges\"][j][idx])\n",
    "            df[elem+\"_pval_adj\"].append(dict_genes[\"pvals_adj\"][j][idx])\n",
    "\n",
    "    dataframe = pd.DataFrame(df)        \n",
    "    for idx, elem in enumerate(list(dict_genes[\"names\"].dtype.names)):\n",
    "        adata.var[str(i.obs[\"group\"][0])+\"_\"+elem+\"_mean\"] = np.mean(i[i.obs[\"Treatment\"] == elem,:].X, axis=0)\n",
    "        adata.var[str(i.obs[\"group\"][0])+\"_\"+elem+\"_n_cells\"] = np.sum(i[i.obs[\"Treatment\"] == elem,:].X > 0, axis=0)\n",
    "        dataframe.index = dataframe[elem+\"_gene\"]\n",
    "        adata.var[str(i.obs[\"group\"][0])+\"_\"+elem+\"_log2FC\"] = dataframe[elem+\"_logfoldchange\"]\n",
    "        adata.var[str(i.obs[\"group\"][0])+\"_\"+elem+\"_pvals_adj\"] = dataframe[elem+\"_pval_adj\"]"
   ]
  },
  {
   "cell_type": "code",
   "execution_count": null,
   "metadata": {},
   "outputs": [],
   "source": [
    "for elem in [\"bile_sterols\",\"carbs_phaseII_stress\",\"lipids_phaseIII\",\n",
    "             \"losing_expression\",\"pseudobulk\"]:\n",
    "    changes = []\n",
    "    for j in range(0, len(adata.var)):\n",
    "        if adata.var[elem+\"_FFA_Cocktail_log2FC\"][j] > 1 and adata.var[elem+\"_FFA_Cocktail_pvals_adj\"][j] < 0.05:\n",
    "            changes.append(\"up_FFA_Cocktail\")\n",
    "        elif adata.var[elem+\"_FFA_Cocktail_log2FC\"][j] < -1 and adata.var[elem+\"_FFA_Cocktail_pvals_adj\"][j] < 0.05:\n",
    "            changes.append(\"up_DMSO\")\n",
    "        else:\n",
    "            changes.append(\"none\")\n",
    "        \n",
    "    adata.var[\"changes_\"+elem] = changes "
   ]
  },
  {
   "cell_type": "code",
   "execution_count": null,
   "metadata": {},
   "outputs": [],
   "source": [
    "adata.var.to_csv(\"differential_expression_FFA_Cocktail_vs_DMSO_nov21.csv\")"
   ]
  },
  {
   "cell_type": "code",
   "execution_count": null,
   "metadata": {},
   "outputs": [],
   "source": [
    "set(adata.obs[\"subgroups\"])"
   ]
  },
  {
   "cell_type": "code",
   "execution_count": null,
   "metadata": {},
   "outputs": [],
   "source": [
    "df = adata.var[adata.var[\"pseudobulk_FFA_Cocktail_n_cells\"] > 0]\n",
    "df = df[df[\"pseudobulk_Vehicle_n_cells\"] > 0]"
   ]
  },
  {
   "cell_type": "code",
   "execution_count": null,
   "metadata": {},
   "outputs": [],
   "source": [
    "cols = []\n",
    "for elem in df[\"changes_pseudobulk\"]:\n",
    "    if elem == \"up_FFA_Cocktail\":\n",
    "        cols.append(\"#d62728\")\n",
    "    elif elem == \"up_DMSO\":\n",
    "        cols.append(\"#888de4\")\n",
    "    else:\n",
    "        cols.append(\"0.75\")"
   ]
  },
  {
   "cell_type": "code",
   "execution_count": null,
   "metadata": {},
   "outputs": [],
   "source": [
    "df[\"pval_r\"] = -np.log10(df[\"pseudobulk_FFA_Cocktail_pvals_adj\"])"
   ]
  },
  {
   "cell_type": "code",
   "execution_count": null,
   "metadata": {},
   "outputs": [],
   "source": [
    "m = df.loc[df['pval_r'] != np.inf, 'pval_r'].max()\n",
    "df['pval_r'].replace(np.inf,m,inplace=True)"
   ]
  },
  {
   "cell_type": "code",
   "execution_count": null,
   "metadata": {},
   "outputs": [],
   "source": [
    "plt.rcParams['figure.figsize']=(7,7) #rescale figures\n",
    "sns.set_theme()\n",
    "font=matplotlib.font_manager.FontProperties()\n",
    "font.set_weight('normal')\n",
    "plt.scatter(y=-np.log10(df[\"pseudobulk_FFA_Cocktail_pvals_adj\"]), \n",
    "            x=df[\"pseudobulk_FFA_Cocktail_log2FC\"],\n",
    "                  c=cols,alpha=0.7, marker=\"x\")\n",
    "\n",
    "for i in [\"ANGPTL3\",\"ADH1B\",\"TDO2\",\"BHMT\",\"TAT\",\"CCL20\",\"TNFAIP3\",\"CYP1A1\",\"DUSP5\",\"GDF15\"]:\n",
    "#b for i in [\"ANGPTL3\",\"TDO2\",\"ACSM2A\",\"ACSM2B\",\"TAT\",\"CCL20\",\"TNFAIP3\",\"CYP1A1\",\"RGS9\",\"GDF15\"]:\n",
    "#c2 for i in [\"TDO2\",\"GSTA1\",\"ALDH1A1\",\"SCP2\",\"TAT\",\"CCL20\",\"MT2A\",\"POR\",\"PLIN2\",\"GDF15\"]:\n",
    "#l3 for i in [\"ACSM2B\",\"APOB\",\"FN1\",\"ALB\",\"ACSM2A\",\"CCL20\",\"PLIN2\",\"ATF3\",\"GNA13\",\"GDF15\"]:\n",
    "#0 for i in [\"BHMT\",\"TDO2\",\"ADH1B\",\"FGB\",\"TAT\",\"GDF15\",\"POR\",\"CYP3A5\",\"PLIN2\",\"CYP1A2\"]:\n",
    "    plt.text(df.loc[df[\"gene_name\"] == i, \"pseudobulk_FFA_Cocktail_log2FC\"].iloc[0]+0.1, \n",
    "             df.loc[df[\"gene_name\"] == i, 'pval_r'].iloc[0]+0.1, i,\n",
    "             fontdict=dict(color='black', alpha=0.7, size=10, weight=\"normal\"))\n",
    "\n",
    "plt.savefig(\"volcano_FFACocktail_vs_Vehicle_pseudobulk.pdf\",bbox_inches=\"tight\")\n",
    "plt.show()"
   ]
  },
  {
   "cell_type": "code",
   "execution_count": null,
   "metadata": {},
   "outputs": [],
   "source": [
    "df1 = df[df[\"changes_pseudobulk\"] == \"up_FFA_Cocktail\"]\n",
    "df1[\"pval_r\"] = -np.log10(df1[\"pseudobulk_FFA_Cocktail_pvals_adj\"])\n",
    "df2 = df1[-np.log10(df1[\"pseudobulk_FFA_Cocktail_pvals_adj\"]) > 275]\n",
    "df2 = df2[df2[\"pseudobulk_FFA_Cocktail_log2FC\"] > 1.85]\n",
    "df2"
   ]
  },
  {
   "cell_type": "code",
   "execution_count": null,
   "metadata": {},
   "outputs": [],
   "source": []
  },
  {
   "cell_type": "code",
   "execution_count": null,
   "metadata": {},
   "outputs": [],
   "source": [
    "cd = pd.read_csv(\"differential_expression_Cocktail_vs_DMSO_nov21.csv\", index_col=0)\n",
    "fcd = pd.read_csv(\"differential_expression_FFA_Cocktail_vs_DMSO_nov21.csv\", index_col=0)"
   ]
  },
  {
   "cell_type": "code",
   "execution_count": null,
   "metadata": {},
   "outputs": [],
   "source": [
    "adata1 = adata[adata.obs[\"cocktail_annot\"] == \"Cocktail\"]"
   ]
  },
  {
   "cell_type": "code",
   "execution_count": null,
   "metadata": {},
   "outputs": [],
   "source": [
    "annot = []\n",
    "for elem in adata1.obs[\"subgroups\"]:\n",
    "    if elem == \"bile_sterols\":\n",
    "        annot.append(\"b\")\n",
    "    elif elem == \"carbs_phaseII_stress\":\n",
    "        annot.append(\"c2\")\n",
    "    elif elem == \"lipids_phaseIII\":\n",
    "        annot.append(\"l3\")\n",
    "    else:\n",
    "        annot.append(\"0\")\n",
    "adata1.obs[\"abbreviations\"] = annot\n",
    "\n",
    "annot = []\n",
    "for idx, elem in enumerate(adata1.obs[\"Treatment\"]):\n",
    "    annot.append(elem+\"_\"+adata1.obs[\"abbreviations\"][idx])\n",
    "adata1.obs[\"abbr_treatment\"] = annot"
   ]
  },
  {
   "cell_type": "code",
   "execution_count": null,
   "metadata": {},
   "outputs": [],
   "source": [
    "df = pd.DataFrame()\n",
    "lfc_c = []\n",
    "lfc_fc = []\n",
    "groups = []\n",
    "genes = []\n",
    "pc = []\n",
    "pfc = []\n",
    "\n",
    "order = []\n",
    "\n",
    "for group in [\"bile_sterols\",\"carbs_phaseII_stress\",\"lipids_phaseIII\",\"losing_expression\"]:\n",
    "    for elem in list(set(adata1.obs[\"Treatment\"])):\n",
    "        if elem == \"Cocktail\":\n",
    "            for idx, gene in enumerate([\"CYP2D6\",\"CYP2C19\",\"CYP2C9\",\"CYP3A4\",\"CYP1A2\"]):\n",
    "                lfc_c.append(np.float(cd[cd[\"gene_name\"] == gene][group+\"_Cocktail_log2FC\"]))\n",
    "                pc.append(np.float(np.sum(adata1[adata1.obs[\"subgroup_treatment\"] == group+\"_3\"+elem,gene].layers[\"norm_counts\"] > 0)/len(adata1[adata1.obs[\"subgroup_treatment\"] == group+\"_3\"+elem])))\n",
    "        elif elem == \"FFA_Cocktail\":\n",
    "            for idx, gene in enumerate([\"CYP2D6\",\"CYP2C19\",\"CYP2C9\",\"CYP3A4\",\"CYP1A2\"]):\n",
    "                lfc_fc.append(np.float(fcd[fcd[\"gene_name\"] == gene][group+\"_FFA_Cocktail_log2FC\"]))\n",
    "                pfc.append(np.float(np.sum(adata1[adata1.obs[\"subgroup_treatment\"] == group+\"_4\"+elem,gene].layers[\"norm_counts\"] > 0)/len(adata1[adata1.obs[\"subgroup_treatment\"] == group+\"_4\"+elem])))\n",
    "                genes.append(gene)\n",
    "                groups.append(group)\n",
    "                order.append(idx)\n",
    "                \n",
    "\n",
    "df[\"lfc_Cocktail\"] = lfc_c\n",
    "df[\"lfc_FFA_Cocktail\"] = lfc_fc\n",
    "df[\"gene\"] = genes\n",
    "df[\"group\"] = groups\n",
    "\n",
    "df[\"percentage_Cocktail\"] = pc\n",
    "df[\"percentage_FFA_Cocktail\"] = pfc\n",
    "\n",
    "df[\"order\"] = order"
   ]
  },
  {
   "cell_type": "code",
   "execution_count": null,
   "metadata": {},
   "outputs": [],
   "source": [
    "np.float(cd[cd[\"gene_name\"] == \"CYP1A2\"][\"lipids_phaseIII_Cocktail_log2FC\"])"
   ]
  },
  {
   "cell_type": "code",
   "execution_count": null,
   "metadata": {},
   "outputs": [],
   "source": [
    "df"
   ]
  },
  {
   "cell_type": "code",
   "execution_count": null,
   "metadata": {},
   "outputs": [],
   "source": [
    "for elem in list(set(df[\"group\"])):\n",
    "    left, width = 0.1, 0.65\n",
    "    bottom, height = 0.1, 0.65\n",
    "    spacing = 0.02\n",
    "\n",
    "    rect_scatter = [left, bottom, width, height]\n",
    "    \n",
    "    plt.figure(figsize=(2.5, 5))\n",
    "    ax_scatter = plt.axes(rect_scatter)\n",
    "    \n",
    "    \n",
    "    df1 = df[df[\"group\"] == elem]\n",
    "    # Reorder it following the values of the first value:\n",
    "    ordered_df = df1.sort_values(by='order')\n",
    "    my_range=range(1,len(df1.index)+1)\n",
    " \n",
    "    # The horizontal plot is made using the hline function\n",
    "    ax_scatter.vlines(x=my_range, ymin=ordered_df['lfc_Cocktail'], ymax=ordered_df['lfc_FFA_Cocktail'], color='grey', alpha=0.4)\n",
    "    #ax_scatter.scatter(my_range, ordered_df['value_DMSO'], color='#888de4', s=ordered_df[\"percentage_DMSO\"]*200, alpha=0.8, label='DMSO')\n",
    "    p = ax_scatter.scatter(my_range, ordered_df['lfc_Cocktail'], color='#6fb48e', \n",
    "                       s=ordered_df[\"percentage_Cocktail\"]*200,\n",
    "                       alpha=0.8 , label='Cocktail')\n",
    "    ax_scatter.scatter(my_range, ordered_df[\"lfc_FFA_Cocktail\"], color=\"#d62728\",\n",
    "                       s=ordered_df[\"percentage_FFA_Cocktail\"]*200, \n",
    "                       alpha=0.8, label='FFA_Cocktail')\n",
    "    #ax_scatter.legend()\n",
    "     \n",
    "    ax_scatter.set_xticklabels(ax_scatter.get_xticklabels(), rotation=45, horizontalalignment='right')\n",
    "    ax_scatter.set_ylim(-2.6,2.6)\n",
    "    \n",
    "\n",
    "    plt.legend(*p.legend_elements(\"sizes\", num=4))\n",
    "\n",
    "\n",
    "    # Add title and axis names\n",
    "    plt.xticks(my_range, ordered_df['gene'])\n",
    "    #plt.title(\"Expression in Cocktail and DMSO\", loc='left')\n",
    "    plt.ylabel(elem+'_log2foldchange')\n",
    "    #plt.ylabel(elem)\n",
    "    plt.margins(x=0.1, y=0.1)\n",
    "\n",
    "    # Show the graph\n",
    "    plt.savefig(\"lfc_cocktail_ffa_\"+elem+\"_20211201.pdf\", bbox_inches=\"tight\")\n",
    "    plt.show()"
   ]
  },
  {
   "cell_type": "code",
   "execution_count": null,
   "metadata": {},
   "outputs": [],
   "source": [
    "adata1 = adata[adata.obs[\"Treatment\"] != \"FFA_Vehicle\"]"
   ]
  },
  {
   "cell_type": "code",
   "execution_count": null,
   "metadata": {},
   "outputs": [],
   "source": [
    "df = pd.DataFrame()\n",
    "values1 = []\n",
    "values2 = []\n",
    "values3 = []\n",
    "values4 = []\n",
    "groups = []\n",
    "genes = []\n",
    "p1 = []\n",
    "p2 = []\n",
    "p3 = []\n",
    "p4 = []\n",
    "for group in list(set(adata.obs[\"subgroups\"])):\n",
    "    for elem in list(set(adata.obs[\"Treatment\"])):\n",
    "        if elem == \"Cocktail\":\n",
    "            for gene in [\"CYP3A4\",\"CYP1A2\",\"CYP2C9\",\"CYP2C19\",\"CYP2D6\"]:\n",
    "                values1.append(np.mean(adata[adata.obs[\"subgroup_treatment\"] == group+\"_3\"+elem, gene].X))\n",
    "                p1.append(np.float(np.sum(adata[adata.obs[\"subgroup_treatment\"] == group+\"_3\"+elem,gene].layers[\"norm_counts\"] > 0)/len(adata[adata.obs[\"subgroup_treatment\"] == group+\"_3\"+elem])))\n",
    "        elif elem == \"FFA_Cocktail\":\n",
    "            for gene in [\"CYP3A4\",\"CYP1A2\",\"CYP2C9\",\"CYP2C19\",\"CYP2D6\"]:\n",
    "                values3.append(np.mean(adata[adata.obs[\"subgroup_treatment\"] == group+\"_4\"+elem, gene].X))\n",
    "                p3.append(np.float(np.sum(adata[adata.obs[\"subgroup_treatment\"] == group+\"_4\"+elem,gene].layers[\"norm_counts\"] > 0)/len(adata[adata.obs[\"subgroup_treatment\"] == group+\"_4\"+elem])))\n",
    "        elif elem == \"FFA_Vehicle\":\n",
    "            for gene in [\"CYP3A4\",\"CYP1A2\",\"CYP2C9\",\"CYP2C19\",\"CYP2D6\"]:\n",
    "                values4.append(np.mean(adata[adata.obs[\"subgroup_treatment\"] == group+\"_2FFA\", gene].X))\n",
    "                p4.append(np.float(np.sum(adata[adata.obs[\"subgroup_treatment\"] == group+\"_2FFA\",gene].layers[\"norm_counts\"] > 0)/len(adata[adata.obs[\"subgroup_treatment\"] == group+\"_2FFA\"])))\n",
    "        elif elem == \"Vehicle\":\n",
    "            for gene in [\"CYP3A4\",\"CYP1A2\",\"CYP2C9\",\"CYP2C19\",\"CYP2D6\"]:\n",
    "                values2.append(np.mean(adata[adata.obs[\"subgroup_treatment\"] == group+\"_1DMSO\", gene].X))\n",
    "                p2.append(np.float(np.sum(adata[adata.obs[\"subgroup_treatment\"] == group+\"_1DMSO\",gene].layers[\"norm_counts\"] > 0)/len(adata[adata.obs[\"subgroup_treatment\"] == group+\"_1DMSO\"])))\n",
    "                genes.append(gene)\n",
    "                groups.append(group)\n",
    "                \n",
    "df[\"value_DMSO\"] = values2\n",
    "df[\"value_Cocktail\"] = values1\n",
    "df[\"value_FFA_Cocktail\"] = values3\n",
    "df[\"value_FFA\"] = values4\n",
    "df[\"gene\"] = genes\n",
    "df[\"group\"] = groups\n",
    "df[\"percentage_DMSO\"] = p2\n",
    "df[\"percentage_Cocktail\"] = p1\n",
    "df[\"percentage_FFA_Cocktail\"] = p3\n",
    "df[\"percentage_FFA\"] = p4"
   ]
  },
  {
   "cell_type": "code",
   "execution_count": null,
   "metadata": {},
   "outputs": [],
   "source": [
    "df"
   ]
  },
  {
   "cell_type": "code",
   "execution_count": null,
   "metadata": {},
   "outputs": [],
   "source": [
    "df1 = pd.read_csv(\"differential_expression_Cocktail_vs_DMSO_nov21.csv\", index_col=0)\n",
    "df2 = pd.read_csv(\"differential_expression_FFA_Cocktail_vs_DMSO_nov21.csv\", index_col=0)\n",
    "df3 = pd.read_csv(\"differential_expression_FFA_vs_DMSO_1_nov21.csv\", index_col=0)"
   ]
  },
  {
   "cell_type": "code",
   "execution_count": null,
   "metadata": {},
   "outputs": [],
   "source": [
    "bile_unaffected = []\n",
    "bile_cocktail = []\n",
    "bile_ffa = []\n",
    "for idx, elem in enumerate(df1[\"changes_bile_sterols\"].tolist()):\n",
    "    if elem == \"up_Cocktail\" and df2[\"changes_bile_sterols\"][idx] == \"up_FFA_Cocktail\":\n",
    "        bile_unaffected.append(df1[\"gene_name\"][idx])\n",
    "    elif elem == \"up_Cocktail\" and df2[\"changes_bile_sterols\"][idx] != \"up_FFA_Cocktail\":\n",
    "        bile_cocktail.append(df1[\"gene_name\"][idx])\n",
    "    elif elem != \"up_Cocktail\" and df2[\"changes_bile_sterols\"][idx] == \"up_FFA_Cocktail\":\n",
    "        bile_ffa.append(df1[\"gene_name\"][idx])\n",
    "carbs_unaffected = []\n",
    "carbs_cocktail = []\n",
    "carbs_ffa = []\n",
    "for idx, elem in enumerate(df1[\"changes_carbs_phaseII_stress\"].tolist()):\n",
    "    if elem == \"up_Cocktail\" and df2[\"changes_carbs_phaseII_stress\"][idx] == \"up_FFA_Cocktail\":\n",
    "        carbs_unaffected.append(df1[\"gene_name\"][idx])\n",
    "    elif elem == \"up_Cocktail\" and df2[\"changes_carbs_phaseII_stress\"][idx] != \"up_FFA_Cocktail\":\n",
    "        carbs_cocktail.append(df1[\"gene_name\"][idx])\n",
    "    elif elem != \"up_Cocktail\" and df2[\"changes_carbs_phaseII_stress\"][idx] == \"up_FFA_Cocktail\":\n",
    "        carbs_ffa.append(df1[\"gene_name\"][idx])\n",
    "lipids_unaffected = []\n",
    "lipids_cocktail = []\n",
    "lipids_ffa = []\n",
    "for idx, elem in enumerate(df1[\"changes_lipids_phaseIII\"].tolist()):\n",
    "    if elem == \"up_Cocktail\" and df2[\"changes_lipids_phaseIII\"][idx] == \"up_FFA_Cocktail\":\n",
    "        lipids_unaffected.append(df1[\"gene_name\"][idx])\n",
    "    elif elem == \"up_Cocktail\" and df2[\"changes_lipids_phaseIII\"][idx] != \"up_FFA_Cocktail\":\n",
    "        lipids_cocktail.append(df1[\"gene_name\"][idx])\n",
    "    elif elem != \"up_Cocktail\" and df2[\"changes_lipids_phaseIII\"][idx] == \"up_FFA_Cocktail\":\n",
    "        lipids_ffa.append(df1[\"gene_name\"][idx])\n",
    "l0_unaffected = []\n",
    "l0_cocktail = []\n",
    "l0_ffa = []\n",
    "for idx, elem in enumerate(df1[\"changes_losing_expression\"].tolist()):\n",
    "    if elem == \"up_Cocktail\" and df2[\"changes_losing_expression\"][idx] == \"up_FFA_Cocktail\":\n",
    "        l0_unaffected.append(df1[\"gene_name\"][idx])\n",
    "    elif elem == \"up_Cocktail\" and df2[\"changes_losing_expression\"][idx] != \"up_FFA_Cocktail\":\n",
    "        l0_cocktail.append(df1[\"gene_name\"][idx])\n",
    "    elif elem != \"up_Cocktail\" and df2[\"changes_losing_expression\"][idx] == \"up_FFA_Cocktail\":\n",
    "        l0_ffa.append(df1[\"gene_name\"][idx])"
   ]
  },
  {
   "cell_type": "code",
   "execution_count": null,
   "metadata": {},
   "outputs": [],
   "source": [
    "bile_cocktail = []\n",
    "bile_ffac = []\n",
    "bile_ffa = []\n",
    "for idx, elem in enumerate(df1[\"changes_bile_sterols\"].tolist()):\n",
    "    if elem == \"up_Cocktail\":\n",
    "        bile_cocktail.append(df1[\"gene_name\"][idx])\n",
    "for idx, elem in enumerate(df2[\"changes_bile_sterols\"].tolist()):\n",
    "    if elem == \"up_FFA_Cocktail\":\n",
    "        bile_ffac.append(df2[\"gene_name\"][idx])\n",
    "for idx, elem in enumerate(df3[\"changes_bile_sterols\"].tolist()):\n",
    "    if elem == \"up_FFA\":\n",
    "        bile_ffa.append(df3[\"gene_name\"][idx])\n",
    "carbs_cocktail = []\n",
    "carbs_ffac = []\n",
    "carbs_ffa = []\n",
    "for idx, elem in enumerate(df1[\"changes_carbs_phaseII_stress\"].tolist()):\n",
    "    if elem == \"up_Cocktail\":\n",
    "        carbs_cocktail.append(df1[\"gene_name\"][idx])\n",
    "for idx, elem in enumerate(df2[\"changes_carbs_phaseII_stress\"].tolist()):\n",
    "    if elem == \"up_FFA_Cocktail\":\n",
    "        carbs_ffac.append(df2[\"gene_name\"][idx])\n",
    "for idx, elem in enumerate(df3[\"changes_carbs_phaseII_stress\"].tolist()):\n",
    "    if elem == \"up_FFA\":\n",
    "        carbs_ffa.append(df3[\"gene_name\"][idx])\n",
    "lipids_cocktail = []\n",
    "lipids_ffac = []\n",
    "lipids_ffa = []\n",
    "for idx, elem in enumerate(df1[\"changes_lipids_phaseIII\"].tolist()):\n",
    "    if elem == \"up_Cocktail\":\n",
    "        lipids_cocktail.append(df1[\"gene_name\"][idx])\n",
    "for idx, elem in enumerate(df2[\"changes_lipids_phaseIII\"].tolist()):\n",
    "    if elem == \"up_FFA_Cocktail\":\n",
    "        lipids_ffac.append(df2[\"gene_name\"][idx])\n",
    "for idx, elem in enumerate(df3[\"changes_lipids_phaseIII\"].tolist()):\n",
    "    if elem == \"up_FFA\":\n",
    "        lipids_ffa.append(df3[\"gene_name\"][idx])\n",
    "l0_cocktail = []\n",
    "l0_ffac = []\n",
    "l0_ffa = []\n",
    "for idx, elem in enumerate(df1[\"changes_losing_expression\"].tolist()):\n",
    "    if elem == \"up_Cocktail\":\n",
    "        l0_cocktail.append(df1[\"gene_name\"][idx])\n",
    "for idx, elem in enumerate(df2[\"changes_losing_expression\"].tolist()):\n",
    "    if elem == \"up_FFA_Cocktail\":\n",
    "        l0_ffa.append(df2[\"gene_name\"][idx])\n",
    "for idx, elem in enumerate(df3[\"changes_losing_expression\"].tolist()):\n",
    "    if elem == \"up_FFA\":\n",
    "        l0_ffa.append(df3[\"gene_name\"][idx])"
   ]
  },
  {
   "cell_type": "code",
   "execution_count": null,
   "metadata": {},
   "outputs": [],
   "source": [
    "cocktail = []\n",
    "for elem in bile_cocktail:\n",
    "    cocktail.append(elem)\n",
    "for elem in carbs_cocktail:\n",
    "    cocktail.append(elem)\n",
    "for elem in lipids_cocktail:\n",
    "    cocktail.append(elem)\n",
    "for elem in l0_cocktail:\n",
    "    cocktail.append(elem)\n",
    "    \n",
    "all_cocktail = list(set(cocktail))"
   ]
  },
  {
   "cell_type": "code",
   "execution_count": null,
   "metadata": {},
   "outputs": [],
   "source": [
    "ffac = []\n",
    "for elem in bile_ffac:\n",
    "    ffac.append(elem)\n",
    "for elem in carbs_ffac:\n",
    "    ffac.append(elem)\n",
    "for elem in lipids_ffac:\n",
    "    ffac.append(elem)\n",
    "for elem in l0_ffac:\n",
    "    ffac.append(elem)\n",
    "    \n",
    "all_ffac = list(set(ffac))"
   ]
  },
  {
   "cell_type": "code",
   "execution_count": null,
   "metadata": {},
   "outputs": [],
   "source": [
    "ffa = []\n",
    "for elem in bile_ffa:\n",
    "    ffa.append(elem)\n",
    "for elem in carbs_ffa:\n",
    "    ffa.append(elem)\n",
    "for elem in lipids_ffa:\n",
    "    ffa.append(elem)\n",
    "for elem in l0_ffa:\n",
    "    ffa.append(elem)\n",
    "    \n",
    "all_ffa = list(set(ffa))"
   ]
  },
  {
   "cell_type": "code",
   "execution_count": null,
   "metadata": {},
   "outputs": [],
   "source": [
    "c = venn2([set(cocktail), set(ffac)]) #[\"#5ca490\",\"#ed1d64\"]\n",
    "c.get_patch_by_id('10').set_color('#5ca490')\n",
    "c.get_patch_by_id('10').set_edgecolor('none')\n",
    "c.get_patch_by_id('10').set_alpha(0.7)\n",
    "c.get_patch_by_id('01').set_color('#ed1d64')\n",
    "c.get_patch_by_id('01').set_edgecolor('none')\n",
    "c.get_patch_by_id('01').set_alpha(0.7)\n",
    "c.get_patch_by_id('11').set_color('#dbc8bb')\n",
    "c.get_patch_by_id('11').set_edgecolor('none')\n",
    "c.get_patch_by_id('11').set_alpha(0.4)\n",
    "plt.savefig(\"venn_overlap_genes_up_in_Cocktail_and_FFA_Cocktail_proportional_20211201.pdf\")"
   ]
  },
  {
   "cell_type": "code",
   "execution_count": null,
   "metadata": {},
   "outputs": [],
   "source": [
    "cocktail_only = []\n",
    "for elem in bile_cocktail:\n",
    "    cocktail_only.append(elem)\n",
    "for elem in carbs_cocktail:\n",
    "    cocktail_only.append(elem)\n",
    "for elem in lipids_cocktail:\n",
    "    cocktail_only.append(elem)\n",
    "for elem in l0_cocktail:\n",
    "    cocktail_only.append(elem)\n",
    "    \n",
    "all_cocktail_only = list(set(cocktail_only))"
   ]
  },
  {
   "cell_type": "code",
   "execution_count": null,
   "metadata": {},
   "outputs": [],
   "source": [
    "unaffected = []\n",
    "for elem in bile_unaffected:\n",
    "    unaffected.append(elem)\n",
    "for elem in carbs_unaffected:\n",
    "    unaffected.append(elem)\n",
    "for elem in lipids_unaffected:\n",
    "    unaffected.append(elem)\n",
    "for elem in l0_unaffected:\n",
    "    unaffected.append(elem)\n",
    "    \n",
    "all_unaffected = list(set(unaffected))"
   ]
  },
  {
   "cell_type": "code",
   "execution_count": null,
   "metadata": {},
   "outputs": [],
   "source": [
    "ffac_only = []\n",
    "for elem in bile_ffa:\n",
    "    ffac_only.append(elem)\n",
    "for elem in carbs_ffa:\n",
    "    ffac_only.append(elem)\n",
    "for elem in lipids_ffa:\n",
    "    ffac_only.append(elem)\n",
    "for elem in l0_ffa:\n",
    "    ffac_only.append(elem)\n",
    "    \n",
    "all_ffac_only = list(set(ffac_only))"
   ]
  },
  {
   "cell_type": "code",
   "execution_count": null,
   "metadata": {},
   "outputs": [],
   "source": [
    "genes_dict = {}\n",
    "genes_dict[\"cocktail_spec_b\"] = bile_cocktail\n",
    "genes_dict[\"unaffected_b\"] = bile_unaffected\n",
    "genes_dict[\"ffa_spec_b\"] = bile_ffa\n",
    "genes_dict[\"cocktail_spec_c2\"] = carbs_cocktail\n",
    "genes_dict[\"unaffected_c2\"] = carbs_unaffected\n",
    "genes_dict[\"ffa_spec_c2\"] = carbs_ffa\n",
    "genes_dict[\"cocktail_spec_l3\"] = lipids_cocktail\n",
    "genes_dict[\"unaffected_l3\"] = lipids_unaffected\n",
    "genes_dict[\"ffa_spec_l3\"] = lipids_ffa\n",
    "genes_dict[\"cocktail_spec_0\"] = l0_cocktail\n",
    "genes_dict[\"unaffected_0\"] = l0_unaffected\n",
    "genes_dict[\"ffa_spec_0\"] = l0_ffa\n",
    "genes_dict[\"cocktail_spec_all\"] = all_cocktail_only\n",
    "genes_dict[\"unaffected_all\"] = all_unaffected\n",
    "genes_dict[\"ffa_spec_all\"] = all_ffac_only"
   ]
  },
  {
   "cell_type": "code",
   "execution_count": null,
   "metadata": {},
   "outputs": [],
   "source": [
    "df = pd.DataFrame(dict([ (k,pd.Series(v)) for k,v in genes_dict.items() ]))"
   ]
  },
  {
   "cell_type": "code",
   "execution_count": null,
   "metadata": {},
   "outputs": [],
   "source": [
    "df.to_csv(\"Suppl_Tab7_unaffected_and_affected_genes_20211201.csv\")"
   ]
  },
  {
   "cell_type": "code",
   "execution_count": null,
   "metadata": {},
   "outputs": [],
   "source": [
    "dfx = pd.DataFrame()\n",
    "dfx[\"group\"] = [\"bile\",\"carbs\",\"lipids\",\"losing_exp\"]\n",
    "dfx[\"counts_coktail\"] = [len(bile_cocktail), len(carbs_cocktail), len(lipids_cocktail), len(l0_cocktail)]\n",
    "dfx[\"counts_unaffected\"] = [len(bile_unaffected), len(carbs_unaffected), len(lipids_unaffected), len(l0_unaffected)]\n",
    "dfx[\"counts_ffa\"] = [len(bile_ffa), len(carbs_ffa), len(lipids_ffa), len(l0_ffa)]"
   ]
  },
  {
   "cell_type": "code",
   "execution_count": null,
   "metadata": {},
   "outputs": [],
   "source": [
    "dfx.to_csv(\"counts_cocktail_unaffected_ffa_20211201.csv\")"
   ]
  },
  {
   "cell_type": "code",
   "execution_count": null,
   "metadata": {},
   "outputs": [],
   "source": [
    "df = pd.crosstab(adata.obs[\"subgroups\"], adata.obs[\"Treatment\"], margins = False)\n",
    "r = np.arange(4)\n",
    " \n",
    "# From raw value to percentage\n",
    "totals = [i+j+k for i,j,k in zip(dfx['counts_coktail'], dfx['counts_unaffected'], dfx['counts_ffa'])]\n",
    "\n",
    "cocktail = [i / j * 100 for i,j in zip(dfx['counts_coktail'], totals)]\n",
    "unaff = [i / j * 100 for i,j in zip(dfx['counts_unaffected'], totals)]\n",
    "ffa = [i / j * 100 for i,j in zip(dfx['counts_ffa'], totals)]\n",
    "\n",
    "# plot\n",
    "barWidth = 0.85\n",
    "names = ('bile_sterols', 'carbs_phaseII', 'lipids_phaseIII', 'losing_expression')\n",
    "\n",
    "# Create bars\n",
    "plt.bar(r, cocktail, width=barWidth, label=\"cocktail_specific\", color='#5ca490')\n",
    "plt.bar(r, unaff, bottom=cocktail, width=barWidth, label=\"unaffected\",color='#dbc8bb')\n",
    "plt.bar(r, ffa, bottom=[i+j for i,j in zip(cocktail, unaff)], width=barWidth, label=\"ffa_specific\",color='#ed1d64')\n",
    "\n",
    "    \n",
    "# Custom x axis\n",
    "plt.xticks(r, names)\n",
    "#plt.xlabel(\"group\")\n",
    "plt.xticks(rotation=90)\n",
    "plt.legend(loc='upper left', bbox_to_anchor=(1,1), ncol=1)\n",
    "\n",
    "# Show graphic\n",
    "plt.savefig(\"barplot_genes_ffa_cocktail_both_20211201.pdf\")\n",
    "plt.show()"
   ]
  },
  {
   "cell_type": "code",
   "execution_count": null,
   "metadata": {},
   "outputs": [],
   "source": [
    "genes_dict = {}\n",
    "genes_dict[\"cocktail_specific\"] = all_cocktail_only\n",
    "genes_dict[\"unaffected\"] = all_unaffected\n",
    "genes_dict[\"ffa_specific\"] = all_ffac_only"
   ]
  },
  {
   "cell_type": "code",
   "execution_count": null,
   "metadata": {},
   "outputs": [],
   "source": [
    "from gprofiler import gprofiler\n",
    "import custom_functions as cf"
   ]
  },
  {
   "cell_type": "code",
   "execution_count": null,
   "metadata": {},
   "outputs": [],
   "source": [
    "genes = all_cocktail_only\n",
    "    \n",
    "#Interpretation of differentially expressed genes in paneth cells - g:profiler\n",
    "gp = gprofiler(genes, organism='hsapiens')\n",
    "gp = gp[gp[\"domain\"] == \"BP\"]"
   ]
  },
  {
   "cell_type": "code",
   "execution_count": null,
   "metadata": {},
   "outputs": [],
   "source": [
    "gp.to_csv(\"GO_terms_cocktail_specific_20211214.csv\")"
   ]
  },
  {
   "cell_type": "code",
   "execution_count": null,
   "metadata": {},
   "outputs": [],
   "source": [
    "plt.rcParams['figure.figsize']=(6,8) #rescale figures\n",
    "genes = all_ffac_only\n",
    "\n",
    "#Interpretation of differentially expressed genes in paneth cells - g:profiler\n",
    "gp = gprofiler(genes, organism='hsapiens')\n",
    "gp = gp[gp[\"domain\"] == \"BP\"]\n",
    "\n",
    "gp_enrichment = gp.sort_values('p.value').iloc[:,[2,3,5,6,11]]\n",
    "gp_enrichment['name']= gp_enrichment['term.name'].copy()\n",
    "gp_enrichment['p_value']= gp_enrichment['p.value'].copy()\n",
    "gp_enrichment['intersection_size']= gp_enrichment['overlap.size'].copy()\n",
    "del gp_enrichment['term.name'], gp_enrichment['overlap.size'], gp_enrichment['p.value']\n",
    "\n",
    "cf.plot_enrich(gp_enrichment, save='GO_shared_FFAcocktail_specific_20211214.pdf')"
   ]
  },
  {
   "cell_type": "code",
   "execution_count": null,
   "metadata": {},
   "outputs": [],
   "source": [
    "import gseapy as gp"
   ]
  },
  {
   "cell_type": "code",
   "execution_count": null,
   "metadata": {},
   "outputs": [],
   "source": [
    "df = pd.DataFrame(adata[adata.obs[\"cocktail_annot\"] == \"Cocktail\", all_unaffected].X)"
   ]
  },
  {
   "cell_type": "code",
   "execution_count": null,
   "metadata": {},
   "outputs": [],
   "source": [
    "df = df.T"
   ]
  },
  {
   "cell_type": "code",
   "execution_count": null,
   "metadata": {},
   "outputs": [],
   "source": [
    "df.index = adata[:,all_unaffected].var_names.tolist()"
   ]
  },
  {
   "cell_type": "code",
   "execution_count": null,
   "metadata": {},
   "outputs": [],
   "source": [
    "sample_names = list(adata[adata.obs[\"cocktail_annot\"] == \"Cocktail\",:].obs[\"Treatment\"])"
   ]
  },
  {
   "cell_type": "code",
   "execution_count": null,
   "metadata": {},
   "outputs": [],
   "source": [
    "gs_res = gp.gsea(data=df, # or data='./P53_resampling_data.txt'\n",
    "                 gene_sets='KEGG_2016', # enrichr library names\n",
    "                 cls=sample_names, # cls=class_vector\n",
    "                 # set permutation_type to phenotype if samples >=15\n",
    "                 permutation_type='phenotype',\n",
    "                 permutation_num=100, # reduce number to speed up test\n",
    "                 min_size=5,\n",
    "                 max_size=200,\n",
    "                 outdir=None,  # do not write output to disk\n",
    "                 no_plot=False, # Skip plotting\n",
    "                 method='signal_to_noise',\n",
    "                 processes=4, seed= 7,\n",
    "                 format='png')"
   ]
  },
  {
   "cell_type": "code",
   "execution_count": null,
   "metadata": {},
   "outputs": [],
   "source": [
    "gs_res.res2d[gs_res.res2d[\"pval\"] < 0.05]"
   ]
  },
  {
   "cell_type": "code",
   "execution_count": null,
   "metadata": {},
   "outputs": [],
   "source": [
    "gs_res.res2d.to_csv(\"gsea_results_ffa_cocktail_vs_cocktail_on_unaffected_genes.csv\")"
   ]
  },
  {
   "cell_type": "code",
   "execution_count": null,
   "metadata": {},
   "outputs": [],
   "source": [
    "from gseapy.plot import gseaplot, heatmap\n",
    "terms = gs_res.res2d.index\n",
    "# Make sure that ``ofname`` is not None, if you want to save your figure to disk\n",
    "gseaplot(gs_res.ranking, term=terms[3], **gs_res.results[terms[3]])\n",
    "plt.savefig(\"GSEA_ffa_cocktail_vs_cocktail_xenobiotic_metabolism_unaffected_20211201.pdf\", bbox_inches=\"tight\")"
   ]
  },
  {
   "cell_type": "code",
   "execution_count": null,
   "metadata": {},
   "outputs": [],
   "source": [
    "ins_res = [\"NFKBIA\",\"TRIB3\",\"CREB3L3\",\"IRS2\",\"SLC2A1\",\"SOCS3\",\n",
    "           \"PIK3CD\",\"CREB5\",\"RELA\",\"CPT1B\"]\n",
    "xeno_met = ['UGT1A1','CYP1B1','CYP3A5','CYP1A2','CYP2B6','CYP1A1',\n",
    "            'AKR1C1','CYP3A4','CYP2C8',\"CYP2C19\",\"CYP2C9\",\"CYP2D6\"]"
   ]
  },
  {
   "cell_type": "code",
   "execution_count": null,
   "metadata": {},
   "outputs": [],
   "source": [
    "# final unaffected, shared and specific\n",
    "df = pd.DataFrame()\n",
    "lfc = []\n",
    "groups = []\n",
    "genes = []\n",
    "treatment = []\n",
    "\n",
    "order = []\n",
    "\n",
    "for group in [\"bile_sterols\",\"carbs_phaseII_stress\",\"lipids_phaseIII\"]:\n",
    "    for elem in list(set(adata.obs[\"Treatment\"])):\n",
    "        if elem == \"FFA_Vehicle\":\n",
    "            for idx, gene in enumerate(xeno_met):\n",
    "                lfc.append(np.float(df3[df3[\"gene_name\"] == gene][group+\"_FFA_Vehicle_log2FC\"]))\n",
    "                treatment.append(\"FFA\")\n",
    "                genes.append(gene)\n",
    "                if group == \"0\":\n",
    "                    groups.append(\"z\")\n",
    "                else:\n",
    "                    groups.append(group)\n",
    "                order.append(idx)\n",
    "\n",
    "        elif elem == \"FFA_Cocktail\":\n",
    "            for idx, gene in enumerate(xeno_met):\n",
    "                lfc.append(np.float(df2[df2[\"gene_name\"] == gene][group+\"_FFA_Cocktail_log2FC\"]))\n",
    "                treatment.append(\"FFA_Cocktail\")\n",
    "                genes.append(gene)\n",
    "                if group == \"0\":\n",
    "                    groups.append(\"z\")\n",
    "                else:\n",
    "                    groups.append(group)\n",
    "                order.append(idx)\n",
    "                \n",
    "        elif elem == \"Cocktail\":\n",
    "            for idx, gene in enumerate(xeno_met):\n",
    "                lfc.append(np.float(df1[df1[\"gene_name\"] == gene][group+\"_Cocktail_log2FC\"]))\n",
    "                treatment.append(\"Cocktail\")\n",
    "                genes.append(gene)\n",
    "                if group == \"0\":\n",
    "                    groups.append(\"z\")\n",
    "                else:\n",
    "                    groups.append(group)\n",
    "                order.append(idx)\n",
    "\n",
    "\n",
    "df[\"lfc\"] = lfc\n",
    "\n",
    "df[\"gene\"] = genes\n",
    "df[\"group\"] = groups\n",
    "df[\"treatment\"] = treatment\n",
    "\n",
    "df[\"order\"] = order"
   ]
  },
  {
   "cell_type": "code",
   "execution_count": null,
   "metadata": {},
   "outputs": [],
   "source": [
    "group_treatment = []\n",
    "for idx, elem in enumerate(df[\"group\"]):\n",
    "    group_treatment.append(df[\"treatment\"][idx]+\"_\"+elem)\n",
    "df[\"group_treatment\"] = group_treatment\n",
    "del df[\"order\"]\n",
    "\n",
    "\n",
    "dfx = df.pivot(\"gene\", \"group_treatment\", \"lfc\")\n",
    "\n",
    "\n",
    "plt.rcParams['figure.figsize']=(5,5)\n",
    "sns.heatmap(dfx, cmap=sns.diverging_palette(265, 35, s=100, as_cmap=True),\n",
    "               yticklabels=1, center=0, linewidths=0.1)#, col_cluster=False)\n",
    "plt.savefig(\"lfc_xenobio_metab_FFA_Cocktail_and_FFA_Cocktail_active_groups_20211201.pdf\", bbox_inches=\"tight\")"
   ]
  },
  {
   "cell_type": "code",
   "execution_count": null,
   "metadata": {},
   "outputs": [],
   "source": []
  },
  {
   "cell_type": "code",
   "execution_count": null,
   "metadata": {},
   "outputs": [],
   "source": []
  },
  {
   "cell_type": "code",
   "execution_count": null,
   "metadata": {},
   "outputs": [],
   "source": []
  },
  {
   "cell_type": "code",
   "execution_count": null,
   "metadata": {},
   "outputs": [],
   "source": []
  },
  {
   "cell_type": "code",
   "execution_count": null,
   "metadata": {},
   "outputs": [],
   "source": []
  },
  {
   "cell_type": "code",
   "execution_count": null,
   "metadata": {},
   "outputs": [],
   "source": [
    "markers = {\"upstream\":[\"MLX\",\"MLXIPL\",\"RXRA\",\"RORA\",\"NR1H4\",\"PPARA\",\"HNF4A\",\"CEBPA\"],\n",
    "           \"phaseI\":[\"CYP2A7\",\"CYP3A5\",\"CYP2B6\",\"CYP2A6\",\"CYP1A1\"],\n",
    "           \"phaseII\":[\"GSTA1\",\"GSTO1\",\"GSTA2\",\"SULT2A1\",\"UGT1A1\"],\n",
    "           \"phaseIII\":[\"ABCC2\",\"ABCC3\",\"ABCB1\",\"SLCO1B1\",\"ABCG5\"],\n",
    "           \"fat_metabolism\":[\"APOB\",\"APOA1\",\"NFE2L2\",\"PLIN2\",\"LDLR\"],\n",
    "           \"stress\":[\"CPEB4\",\"DDIT3\",\"TNFRSF10B\",\"PPP1R15A\",\"GOT1\"]}"
   ]
  },
  {
   "cell_type": "code",
   "execution_count": null,
   "metadata": {},
   "outputs": [],
   "source": [
    "adata1 = adata[adata.obs[\"Treatment\"] != \"FFA_Vehicle\"]\n",
    "adata2 = adata1[adata1.obs[\"subgroups\"] != \"losing_expression\"]"
   ]
  },
  {
   "cell_type": "code",
   "execution_count": null,
   "metadata": {},
   "outputs": [],
   "source": [
    "sc.pl.stacked_violin(adata2, groupby=\"subgroup_treatment\",\n",
    "                    var_names=markers,\n",
    "                    #swap_axes=True,\n",
    "                    standard_scale=\"var\",\n",
    "                    save=\"subgroup_treatment_upstream_downstream_markers_no_losing_exp_20211201.pdf\")"
   ]
  },
  {
   "cell_type": "code",
   "execution_count": null,
   "metadata": {},
   "outputs": [],
   "source": [
    "df = cf.cell_compo_table(adata, \"subgroups\",\"subgroups\")"
   ]
  },
  {
   "cell_type": "code",
   "execution_count": null,
   "metadata": {},
   "outputs": [],
   "source": [
    "df1 = [i / 38232 * 100 for i in df['All']]"
   ]
  },
  {
   "cell_type": "code",
   "execution_count": null,
   "metadata": {},
   "outputs": [],
   "source": [
    "df2 = pd.DataFrame()\n",
    "df2[\"values\"] = df1[:-1]\n",
    "df2.index = df.index[:-1]"
   ]
  },
  {
   "cell_type": "code",
   "execution_count": null,
   "metadata": {},
   "outputs": [],
   "source": [
    "color = ['#ff7f0e', '#1f77b4', '#17b2b1', '#9b1c03']\n",
    "df2.T.plot(kind='bar', stacked=True, color=color)\n",
    "plt.xticks(np.arange(1), \"\")\n",
    "plt.xlabel(\"Percentage subgroups\")\n",
    "\n",
    "plt.legend(loc='upper left', bbox_to_anchor=(1,1), ncol=1)\n",
    "plt.savefig(\"barplot_percentages_subgroups_20211201.pdf\", bbox_inches=\"tight\")"
   ]
  },
  {
   "cell_type": "code",
   "execution_count": null,
   "metadata": {},
   "outputs": [],
   "source": []
  },
  {
   "cell_type": "code",
   "execution_count": null,
   "metadata": {},
   "outputs": [],
   "source": []
  },
  {
   "cell_type": "code",
   "execution_count": null,
   "metadata": {},
   "outputs": [],
   "source": []
  },
  {
   "cell_type": "code",
   "execution_count": null,
   "metadata": {},
   "outputs": [],
   "source": []
  },
  {
   "cell_type": "code",
   "execution_count": null,
   "metadata": {},
   "outputs": [],
   "source": []
  },
  {
   "cell_type": "code",
   "execution_count": null,
   "metadata": {},
   "outputs": [],
   "source": []
  },
  {
   "cell_type": "markdown",
   "metadata": {},
   "source": [
    "# 5) Additional analysis and plots"
   ]
  },
  {
   "cell_type": "code",
   "execution_count": null,
   "metadata": {},
   "outputs": [],
   "source": [
    "df = pd.crosstab(adata.obs[\"subgroups\"], adata.obs[\"Treatment\"], margins = False)\n",
    "df['Vehicle'] = df['Vehicle'].div(9820)\n",
    "df[\"FFA_Vehicle\"] = df[\"FFA_Vehicle\"].div(11736)\n",
    "df[\"Cocktail\"] = df[\"Cocktail\"].div(6122)\n",
    "df[\"FFA_Cocktail\"] = df[\"FFA_Cocktail\"].div(10554)"
   ]
  },
  {
   "cell_type": "code",
   "execution_count": null,
   "metadata": {},
   "outputs": [],
   "source": [
    "df"
   ]
  },
  {
   "cell_type": "code",
   "execution_count": null,
   "metadata": {},
   "outputs": [],
   "source": [
    "# Data\n",
    "r = np.arange(4)\n",
    " \n",
    "# From raw value to percentage\n",
    "totals = [i+j+k+l for i,j,k,l in zip(df['Vehicle'], df['FFA_Vehicle'], df['Cocktail'], df[\"FFA_Cocktail\"])]\n",
    "\n",
    "DMSO = [i / j * 100 for i,j in zip(df['Vehicle'], totals)]\n",
    "FFA = [i / j * 100 for i,j in zip(df['FFA_Vehicle'], totals)]\n",
    "Cocktail = [i / j * 100 for i,j in zip(df['Cocktail'], totals)]\n",
    "FFA_Cocktail = [i / j * 100 for i,j in zip(df['FFA_Cocktail'], totals)]\n",
    "\n",
    "# plot\n",
    "barWidth = 0.85\n",
    "names = ('bile_sterols', 'carbs_phaseII', 'lipids_phaseIII', 'losing_expression')\n",
    "\n",
    "# Create bars\n",
    "plt.bar(r, DMSO, width=barWidth, label=\"DMSO\", color='#888de4')\n",
    "plt.bar(r, FFA, bottom=DMSO, width=barWidth, label=\"FFA\",color='#deb82c')\n",
    "plt.bar(r, Cocktail, bottom=[i+j for i,j in zip(DMSO, FFA)], width=barWidth, label=\"Cocktail\",color='#279e68')\n",
    "plt.bar(r, FFA_Cocktail, bottom=[i+j+k for i,j,k in zip(DMSO, FFA, Cocktail)], width=barWidth,\n",
    "        label=\"FFA_Cocktail\", color=\"#d62728\")\n",
    "\n",
    "\n",
    "    \n",
    "# Custom x axis\n",
    "plt.xticks(r, names)\n",
    "#plt.xlabel(\"group\")\n",
    "plt.xticks(rotation=90)\n",
    "plt.legend(loc='upper left', bbox_to_anchor=(1,1), ncol=1)\n",
    "\n",
    "# Show graphic\n",
    "plt.savefig(\"barplot_treatment_conditions_per_subgroup_dec21.pdf\")\n",
    "plt.show()"
   ]
  },
  {
   "cell_type": "code",
   "execution_count": null,
   "metadata": {},
   "outputs": [],
   "source": [
    "adata2 = adata.copy()"
   ]
  },
  {
   "cell_type": "code",
   "execution_count": null,
   "metadata": {},
   "outputs": [],
   "source": [
    "adata2.var[\"mean_norm_counts\"] = np.mean(adata2.X, axis=0)\n",
    "adata2 = adata2[:,adata2.var[\"mean_norm_counts\"] > 0.25].copy()"
   ]
  },
  {
   "cell_type": "code",
   "execution_count": null,
   "metadata": {},
   "outputs": [],
   "source": [
    "df = pd.DataFrame()\n",
    "df2 = pd.DataFrame()\n",
    "df3 = pd.DataFrame()\n",
    "for elem in list(set(adata2.obs[\"subgroup_treatment\"])):\n",
    "    print(elem)\n",
    "    adata2.var[\"mean_\"+elem] = np.mean(adata2[adata2.obs[\"subgroup_treatment\"] == elem,:].layers[\"norm_counts\"], axis=0)\n",
    "    adata2.var[\"CV_\"+elem] = np.sqrt(np.exp(np.std(adata2[adata2.obs[\"subgroup_treatment\"] == elem,:].X, axis=0)**2)-1)\n",
    "    df[\"CV_\"+elem] = np.sqrt(np.exp(np.std(adata2[adata2.obs[\"subgroup_treatment\"] == elem,:].X, axis=0)**2)-1)\n",
    "    print(np.median(df[\"CV_\"+elem]))\n",
    "    df2[\"mean_\"+elem] = np.mean(adata2[adata2.obs[\"subgroup_treatment\"] == elem,:].X, axis=0)"
   ]
  },
  {
   "cell_type": "code",
   "execution_count": null,
   "metadata": {},
   "outputs": [],
   "source": [
    "df1 = df.unstack().reset_index() \n",
    "ordered_df = df1.sort_values(by='level_0')"
   ]
  },
  {
   "cell_type": "code",
   "execution_count": null,
   "metadata": {},
   "outputs": [],
   "source": [
    "# use same colors as in the tSNE\n",
    "cols = {\"CV_carbs_phaseII_stress_2FFA\":'#deb82c', \"CV_lipids_phaseIII_3Cocktail\":'#279e68',\n",
    "        \"CV_lipids_phaseIII_4FFA_Cocktail\":'#d62728', \n",
    "        \"CV_carbs_phaseII_stress_1DMSO\":'#888de4', \"CV_losing_expression_2FFA\":'#deb82c',\n",
    "        \"CV_bile_sterols_3Cocktail\":'#279e68', \"CV_losing_expression_1DMSO\":'#888de4', \n",
    "        \"CV_lipids_phaseIII_1DMSO\":'#888de4', \"CV_lipids_phaseIII_1DMSO\":'#888de4',\n",
    "        \"CV_bile_sterols_1DMSO\":'#888de4', \"CV_carbs_phaseII_stress_4FFA_Cocktail\":'#d62728',\n",
    "        \"CV_losing_expression_3Cocktail\":'#279e68', \"CV_carbs_phaseII_stress_3Cocktail\":'#279e68',\n",
    "        \"CV_bile_sterols_2FFA\":'#deb82c', \"CV_bile_sterols_4FFA_Cocktail\":'#d62728',\n",
    "        \"CV_losing_expression_4FFA_Cocktail\":'#d62728', \"CV_lipids_phaseIII_2FFA\":'#deb82c'}\n",
    "p = sns.boxplot(x=\"level_0\", y=0, data=ordered_df, palette=cols)\n",
    "p.set_xticklabels(p.get_xticklabels(), rotation=45, horizontalalignment='right')\n",
    "box = p.get_position()\n",
    "p.set_position([box.x0, box.y0, box.width * 2, box.height * 1])\n",
    "plt.yscale(\"log\")\n",
    "plt.savefig(\"coefficient_of_variation_per_group_and_treatment_colored_by_treatment_20211202.pdf\", bbox_inches=\"tight\")"
   ]
  },
  {
   "cell_type": "code",
   "execution_count": null,
   "metadata": {},
   "outputs": [],
   "source": []
  },
  {
   "cell_type": "code",
   "execution_count": null,
   "metadata": {},
   "outputs": [],
   "source": [
    "adata.obs[\"group\"] = \"pseudobulk\""
   ]
  },
  {
   "cell_type": "code",
   "execution_count": null,
   "metadata": {},
   "outputs": [],
   "source": [
    "adataL3 = adata[adata.obs[\"subgroups\"] == \"lipids_phaseIII\"]\n",
    "adataL3.obs[\"group\"] = \"lipids_phaseIII\"\n",
    "adataC2 = adata[adata.obs[\"subgroups\"] == \"carbs_phaseII_stress\"]\n",
    "adataC2.obs[\"group\"] = \"carbs_phaseII_stress\"\n",
    "adataB = adata[adata.obs[\"subgroups\"] == \"bile_sterols\"]\n",
    "adataB.obs[\"group\"] = \"bile_sterols\"\n",
    "adata0 = adata[adata.obs[\"subgroups\"] == \"losing_expression\"]\n",
    "adata0.obs[\"group\"] = \"losing_expression\""
   ]
  },
  {
   "cell_type": "code",
   "execution_count": null,
   "metadata": {},
   "outputs": [],
   "source": [
    "for i in [adata, adataB, adataC2, adataL3, adata0]:\n",
    "    sc.tl.rank_genes_groups(i, groupby=\"Treatment\", n_genes=len(i.var))\n",
    "    sc.pl.rank_genes_groups_matrixplot(i, standard_scale=\"var\", dendrogram=False,\n",
    "                                       save=str(i.obs[\"group\"][0])+\"_treatment_comparison.pdf\")\n",
    "    cf.top_marker_as_xlsx(i, \"rank_genes_groups\", \"Treatment\", \"top_genes_Treatment_\"+str(i.obs[\"group\"][0])+\".csv\")"
   ]
  },
  {
   "cell_type": "code",
   "execution_count": null,
   "metadata": {},
   "outputs": [],
   "source": [
    "df0 = pd.read_csv(\"top_genes_Treatment_losing_expression.csv\", index_col=0)\n",
    "df1 = pd.read_csv(\"top_genes_Treatment_bile_sterols.csv\", index_col=0)\n",
    "df2 = pd.read_csv(\"top_genes_Treatment_carbs_phaseII_stress.csv\", index_col=0)\n",
    "df3 = pd.read_csv(\"top_genes_Treatment_lipids_phaseIII.csv\", index_col=0)\n",
    "dfx = pd.read_csv(\"top_genes_Treatment_pseudobulk.csv\", index_col=0)"
   ]
  },
  {
   "cell_type": "code",
   "execution_count": null,
   "metadata": {},
   "outputs": [],
   "source": []
  },
  {
   "cell_type": "code",
   "execution_count": null,
   "metadata": {},
   "outputs": [],
   "source": [
    "df"
   ]
  },
  {
   "cell_type": "code",
   "execution_count": null,
   "metadata": {},
   "outputs": [],
   "source": [
    "categories = ['CYP1A2', 'CYP2C9', 'CYP2C19', 'CYP2D6', 'CYP3A4']\n",
    "categories = [*categories, categories[0]]\n",
    "\n",
    "dmso = [0.32, 0.81, 0.1, 0.09, 0.34]\n",
    "cocktail = [0.99, 1.14, 0.09, 0.09, 0.86]\n",
    "ffa_cocktail = [0.68, 0.79, 0.07, 0.08, 0.44]\n",
    "ffa = [0.38, 0.66, 0.05, 0.08, 0.31]\n",
    "\n",
    "dmso = [*dmso, dmso[0]]\n",
    "cocktail = [*cocktail, cocktail[0]]\n",
    "ffa_cocktail = [*ffa_cocktail, ffa_cocktail[0]]\n",
    "ffa = [*ffa, ffa[0]]\n",
    "\n",
    "label_loc = np.linspace(start=0, stop=2 * np.pi, num=len(dmso))\n",
    "\n",
    "plt.figure(figsize=(5, 5))\n",
    "plt.subplot(polar=True)\n",
    "plt.plot(label_loc, dmso, label='Vehicle', c='#888de4')\n",
    "plt.plot(label_loc, cocktail, label='Cocktail', c='#279e68')\n",
    "plt.plot(label_loc, ffa_cocktail, label='FFA_Cocktail', c='#d62728')\n",
    "plt.plot(label_loc, ffa, label='FFA', c='#deb82c')\n",
    "plt.title('Pseudobulk', size=20)\n",
    "lines, labels = plt.thetagrids(np.degrees(label_loc), labels=categories)\n",
    "plt.legend(loc='center left', bbox_to_anchor=(1, 1))\n",
    "plt.savefig(\"spider_chart_cytochromes_pseudobulk_20211203.pdf\")\n",
    "plt.show()"
   ]
  },
  {
   "cell_type": "code",
   "execution_count": null,
   "metadata": {},
   "outputs": [],
   "source": []
  },
  {
   "cell_type": "code",
   "execution_count": null,
   "metadata": {},
   "outputs": [],
   "source": [
    "df1 = pd.read_csv(\"differential_expression_Cocktail_vs_DMSO_nov21.csv\", index_col=0)\n",
    "df3 = pd.read_csv(\"differential_expression_FFA_vs_DMSO_075_nov21.csv\", index_col=0)"
   ]
  },
  {
   "cell_type": "code",
   "execution_count": null,
   "metadata": {},
   "outputs": [],
   "source": [
    "#dfx = df1[df1[\"pseudobulk_Cocktail_pvals_adj\"] < 0.05]\n",
    "len(df1[df1[\"pseudobulk_Cocktail_log2FC\"] > 0])"
   ]
  },
  {
   "cell_type": "code",
   "execution_count": null,
   "metadata": {},
   "outputs": [],
   "source": [
    "#dfx = df3[df3[\"pseudobulk_FFA_Vehicle_pvals_adj\"] < 0.05]\n",
    "len(df3[df3[\"pseudobulk_FFA_Vehicle_log2FC\"] >0])"
   ]
  },
  {
   "cell_type": "code",
   "execution_count": null,
   "metadata": {},
   "outputs": [],
   "source": [
    "8108/2326"
   ]
  },
  {
   "cell_type": "code",
   "execution_count": null,
   "metadata": {},
   "outputs": [],
   "source": [
    "x = np.arange(2)\n",
    "variable = [8108, 2326]\n",
    "\n",
    "fig, ax = plt.subplots()\n",
    "plt.bar(x, variable)\n",
    "plt.title(\"Number of genes with positive log2 fold change\")\n",
    "plt.xticks(x, ('Cocktail vs DMSO', 'FFA vs DMSO'))\n",
    "ax.set_xticklabels(ax.get_xticklabels(), rotation=45, horizontalalignment='right')\n",
    "plt.savefig(\"Suppl_Fig5_number_genes_positive_log2FC.pdf\", bbox_inches=\"tight\")\n",
    "plt.show()"
   ]
  },
  {
   "cell_type": "code",
   "execution_count": null,
   "metadata": {},
   "outputs": [],
   "source": []
  },
  {
   "cell_type": "code",
   "execution_count": null,
   "metadata": {},
   "outputs": [],
   "source": []
  }
 ],
 "metadata": {
  "kernelspec": {
   "display_name": "scgen",
   "language": "python",
   "name": "scgen"
  },
  "language_info": {
   "codemirror_mode": {
    "name": "ipython",
    "version": 3
   },
   "file_extension": ".py",
   "mimetype": "text/x-python",
   "name": "python",
   "nbconvert_exporter": "python",
   "pygments_lexer": "ipython3",
   "version": "3.7.0"
  }
 },
 "nbformat": 4,
 "nbformat_minor": 4
}
