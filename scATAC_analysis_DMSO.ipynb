{
 "cells": [
  {
   "cell_type": "code",
   "execution_count": null,
   "id": "42391281-1f92-43c2-84e3-4b39246f3873",
   "metadata": {},
   "outputs": [],
   "source": [
    "import numpy as np\n",
    "import pandas as pd\n",
    "\n",
    "import scanpy as sc\n",
    "import episcanpy as epi\n",
    "import anndata as ad\n",
    "\n",
    "import matplotlib.pyplot as plt\n",
    "\n",
    "import time\n",
    "import pickle\n",
    "import os"
   ]
  },
  {
   "cell_type": "code",
   "execution_count": null,
   "id": "b517a21f-9496-49ff-9729-92b38dac801d",
   "metadata": {},
   "outputs": [],
   "source": [
    "fragments_file = \"fragments.tsv.gz\"\n",
    "peak_file = \"ChEA3_TFBS_remap2022_20230109.bed\""
   ]
  },
  {
   "cell_type": "code",
   "execution_count": null,
   "id": "37744521-5b75-4474-8145-d2fdf51c1002",
   "metadata": {},
   "outputs": [],
   "source": [
    "adata = epi.ct.peak_mtx(\n",
    "    fragments_file,\n",
    "    peak_file, \n",
    "    #valid_barcodes,\n",
    "    normalized_peak_size=None,\n",
    "    fast=False\n",
    ")\n",
    "\n",
    "adata"
   ]
  },
  {
   "cell_type": "code",
   "execution_count": null,
   "id": "a9b2bc7d-d2ed-4608-a8a9-460a8cde36ce",
   "metadata": {},
   "outputs": [],
   "source": [
    "TFs = []\n",
    "with open(\"ChEA3_TFBS_remap2022_20230109.bed\") as f:\n",
    "    for line in f:\n",
    "        line = line.split(\"\\t\")\n",
    "        TFs.append(line[3][:-1])"
   ]
  },
  {
   "cell_type": "code",
   "execution_count": null,
   "id": "69472966-fd0c-4fa0-bcba-7926fbbaba19",
   "metadata": {},
   "outputs": [],
   "source": [
    "adata.var[\"TF\"] = TFs"
   ]
  },
  {
   "cell_type": "code",
   "execution_count": null,
   "id": "cabe60e9-fa62-43ba-b423-fff06bbbb2c9",
   "metadata": {},
   "outputs": [],
   "source": [
    "print(\"Max before:\\t{}\".format(np.max(adata.X)))\n",
    "epi.pp.binarize(adata)\n",
    "print(\"Max after:\\t{}\".format(np.max(adata.X)))"
   ]
  },
  {
   "cell_type": "code",
   "execution_count": null,
   "id": "25191d17-f280-4ee4-98cd-7e7583dbb6dd",
   "metadata": {},
   "outputs": [],
   "source": [
    "epi.pp.qc_stats(adata, verbose=True)"
   ]
  },
  {
   "cell_type": "code",
   "execution_count": null,
   "id": "45a78ecf-f5c0-4099-aad6-a68302ceeb93",
   "metadata": {},
   "outputs": [],
   "source": [
    "epi.pp.nucleosome_signal(adata, fragments_file, n=10000)"
   ]
  },
  {
   "cell_type": "code",
   "execution_count": null,
   "id": "19ac119f-83de-469e-941b-6cfb3c01dba4",
   "metadata": {},
   "outputs": [],
   "source": [
    "gtf_file = \"gencode.v42.annotation.gtf\""
   ]
  },
  {
   "cell_type": "code",
   "execution_count": null,
   "id": "6697d1d9-bd08-4763-9478-52fd2ab13442",
   "metadata": {},
   "outputs": [],
   "source": [
    "epi.pp.tss_enrichment(adata, gtf=gtf_file, fragments=fragments_file, n=5000, score=\"avg_score_of_center_region\", distance_to_tss=1000, bp_per_flank=100)"
   ]
  },
  {
   "cell_type": "code",
   "execution_count": null,
   "id": "9c4bdb15-8d5c-4763-b2ff-0764327f66ac",
   "metadata": {},
   "outputs": [],
   "source": [
    "min_features = 2000\n",
    "max_features = None\n",
    "\n",
    "epi.pl.violin(adata, \"n_features\", min_threshold=min_features, max_threshold=max_features, show_log=True, show_mean=True, show_median=True, print_statistics=False,\n",
    "             save=\"scATAC_DMSO_QC_filter_cells_20230126.pdf\")\n",
    "epi.pl.histogram(adata, \"n_features\", bins=40, min_threshold=min_features, max_threshold=max_features, show_log=True, show_mean=True, show_median=True, print_statistics=True,\n",
    "                save=\"scATAC_DMSO_QC_filter_cells_hist_20230126.pdf\")"
   ]
  },
  {
   "cell_type": "code",
   "execution_count": null,
   "id": "48f8d28a-b7d8-4a6c-a07d-03059ac87df1",
   "metadata": {},
   "outputs": [],
   "source": [
    "min_cells = 30\n",
    "max_cells = None\n",
    "\n",
    "epi.pl.violin(adata, \"n_cells\", min_threshold=min_cells, max_threshold=max_cells, show_log=True, show_mean=True, show_median=True, print_statistics=False, \n",
    "              save=\"scATAC_DMSO_QC_filter_features_20230126.pdf\")"
   ]
  },
  {
   "cell_type": "code",
   "execution_count": null,
   "id": "69bff057-6d3e-4584-86e4-367b68cdda19",
   "metadata": {},
   "outputs": [],
   "source": [
    "max_nucleosome_signal = 5\n",
    "\n",
    "epi.pl.fragment_length(adata, n=5000, threshold=max_nucleosome_signal, show_n=True, save=\"scATAC_DMSO_fragment_length_distribution_20230126.pdf\")\n",
    "epi.pl.violin(adata, \"nucleosome_signal\", max_threshold=max_nucleosome_signal, show_log=True, show_mean=True, show_median=True, print_statistics=True, save=\"scATAC_DMSO_nucleosome_signal_20230126.pdf\")"
   ]
  },
  {
   "cell_type": "code",
   "execution_count": null,
   "id": "a9e1e474-ec3a-40b4-bad2-d8b9bf08a16c",
   "metadata": {},
   "outputs": [],
   "source": [
    "min_tss_enrichment = 2\n",
    "\n",
    "adata.obs[\"tss\"] = [\"high\" if val > min_tss_enrichment else \"low\" for val in adata.obs[\"tss_enrichment_score\"]]\n",
    "\n",
    "epi.pl.tss_enrichment(adata, group_by=\"tss\", show_n=True, save=\"scATAC_DMSO_TSS_enrichment_20230126.pdf\")\n",
    "epi.pl.violin(adata, \"tss_enrichment_score\", min_threshold=min_tss_enrichment, show_log=True, show_mean=True, show_median=True, print_statistics=True, save=\"scATAC_DMSO_TSS_enrichment_violin_20230126.pdf\")"
   ]
  },
  {
   "cell_type": "code",
   "execution_count": null,
   "id": "88c4375b-d878-4ac5-bd7d-0a32967d2463",
   "metadata": {},
   "outputs": [],
   "source": [
    "epi.pp.set_filter(adata, \"n_features\", min_threshold=min_features, max_threshold=max_features)\n",
    "epi.pp.set_filter(adata, \"nucleosome_signal\", max_threshold=max_nucleosome_signal)\n",
    "epi.pp.set_filter(adata, \"tss_enrichment_score\", min_threshold=min_tss_enrichment)\n",
    "\n",
    "epi.pp.set_filter(adata, \"n_cells\", min_threshold=min_cells)"
   ]
  },
  {
   "cell_type": "code",
   "execution_count": null,
   "id": "a86d67de-a2e5-4b56-a0cc-ace4d1e041c1",
   "metadata": {},
   "outputs": [],
   "source": [
    "adata = epi.pp.apply_filters(adata, verbose=True)"
   ]
  },
  {
   "cell_type": "code",
   "execution_count": null,
   "id": "118cdce0-908e-454a-a7ec-e15089bb512b",
   "metadata": {},
   "outputs": [],
   "source": [
    "epi.pp.highly_variable(adata, min_score=0.515, n_features=None)"
   ]
  },
  {
   "cell_type": "code",
   "execution_count": null,
   "id": "6d116642-4888-438d-8841-b7ffdbed5c0d",
   "metadata": {},
   "outputs": [],
   "source": [
    "adata1 = epi.pp.select_highly_variable(adata, verbose=True)"
   ]
  },
  {
   "cell_type": "code",
   "execution_count": null,
   "id": "13439aea-fd20-43e9-9103-dcba283d9cb9",
   "metadata": {},
   "outputs": [],
   "source": [
    "adata1.write(\"ChEA3_predicted_TFBS_remap2022_filtered_most_variable_20220110.h5ad\")"
   ]
  },
  {
   "cell_type": "code",
   "execution_count": null,
   "id": "a8aab36f-9036-4f67-ab14-d6ad2236b9da",
   "metadata": {},
   "outputs": [],
   "source": [
    "adata1"
   ]
  },
  {
   "cell_type": "code",
   "execution_count": null,
   "id": "9afec470-fe21-49ba-9511-e62331507a68",
   "metadata": {},
   "outputs": [],
   "source": [
    "del adata # to save memory"
   ]
  },
  {
   "cell_type": "code",
   "execution_count": null,
   "id": "e8bc2001-dff9-49f1-ba22-f2f16bd2a332",
   "metadata": {},
   "outputs": [],
   "source": [
    "epi.tl.find_genes(adata1, \"gencode.v42.annotation.gtf\", upstream=1000, downstream=100, feature_type=\"gene\")"
   ]
  },
  {
   "cell_type": "code",
   "execution_count": null,
   "id": "426bcac4-809e-46c2-b440-9b0d46786e2d",
   "metadata": {},
   "outputs": [],
   "source": [
    "subgroupgenes = pd.read_csv(\"subgroups_DMSO_top500.csv\", index_col=0)"
   ]
  },
  {
   "cell_type": "code",
   "execution_count": null,
   "id": "83556daf-f3b4-48bc-9bbe-a3132009d8b9",
   "metadata": {},
   "outputs": [],
   "source": [
    "genes = [elem for elem in subgroupgenes[\"bile_sterols\"].tolist()]\n",
    "genes = genes + [elem for elem in subgroupgenes[\"carbs_phaseII_stress\"].tolist()]\n",
    "genes = genes + [elem for elem in subgroupgenes[\"lipids_phaseIII\"].tolist()]\n",
    "genes = genes + [elem for elem in subgroupgenes[\"losing_expression\"].tolist()]"
   ]
  },
  {
   "cell_type": "code",
   "execution_count": null,
   "id": "3acd3c16-5a64-4cc2-9a69-384f4e050762",
   "metadata": {},
   "outputs": [],
   "source": [
    "relevant_TFBS = []\n",
    "for idx,elem in enumerate(adata1.var[\"gene_annotation\"].tolist()):\n",
    "    elem = elem.split(\";\")\n",
    "    for item in elem:\n",
    "        if item in genes:\n",
    "            relevant_TFBS.append(adata1.var_names.tolist()[idx])"
   ]
  },
  {
   "cell_type": "code",
   "execution_count": null,
   "id": "8a53e14a-4882-4f2e-b0f2-31474061fd30",
   "metadata": {},
   "outputs": [],
   "source": [
    "annot = []\n",
    "for elem in adata1.var_names.tolist():\n",
    "    if elem in relevant_TFBS:\n",
    "        annot.append(\"yes\")\n",
    "    else:\n",
    "        annot.append(\"no\")\n",
    "adata1.var[\"relevant\"] = annot"
   ]
  },
  {
   "cell_type": "code",
   "execution_count": null,
   "id": "024d7cfb-92ae-4fb4-8174-7d2a4bc67033",
   "metadata": {},
   "outputs": [],
   "source": [
    "adata2 = adata1[:,adata1.var[\"relevant\"] == \"yes\"]"
   ]
  },
  {
   "cell_type": "code",
   "execution_count": null,
   "id": "0e4e3b9f-9c98-4af0-809a-f01523ed81c9",
   "metadata": {},
   "outputs": [],
   "source": [
    "adata2"
   ]
  },
  {
   "cell_type": "code",
   "execution_count": null,
   "id": "861203e5-0c8d-420e-aea5-07cd107c3bb1",
   "metadata": {},
   "outputs": [],
   "source": [
    "epi.pp.lazy(adata2)"
   ]
  },
  {
   "cell_type": "code",
   "execution_count": null,
   "id": "81cf337e-5759-41d1-8f3a-a128d12be101",
   "metadata": {},
   "outputs": [],
   "source": [
    "epi.pl.umap(adata2)"
   ]
  },
  {
   "cell_type": "code",
   "execution_count": null,
   "id": "7e0042c6-b97a-4e54-866b-0a3663491c1e",
   "metadata": {},
   "outputs": [],
   "source": [
    "annot = []\n",
    "for idx,elem in enumerate(adata2.var[\"gene_annotation\"].tolist()):\n",
    "    elem = elem.split(\";\")\n",
    "    if len(elem) > 1:\n",
    "        sublist = []\n",
    "        for item in elem:\n",
    "            if item in subgroupstuff[\"bile_sterols\"].tolist():\n",
    "                sublist.append(\"I\")\n",
    "            elif item in subgroupstuff[\"carbs_phaseII_stress\"].tolist():\n",
    "                sublist.append(\"II\")\n",
    "            elif item in subgroupstuff[\"lipids_phaseIII\"].tolist():\n",
    "                sublist.append(\"III\")\n",
    "            elif item in subgroupstuff[\"losing_expression\"].tolist():\n",
    "                sublist.append(\"IV\")\n",
    "        annot.append(sublist)\n",
    "    elif elem[0] in subgroupstuff[\"bile_sterols\"].tolist():\n",
    "        annot.append(\"I\")\n",
    "    elif elem[0] in subgroupstuff[\"carbs_phaseII_stress\"].tolist():\n",
    "        annot.append(\"II\")\n",
    "    elif elem[0] in subgroupstuff[\"lipids_phaseIII\"].tolist():\n",
    "        annot.append(\"III\")\n",
    "    elif elem[0] in subgroupstuff[\"losing_expression\"].tolist():\n",
    "        annot.append(\"IV\")\n",
    "    else:\n",
    "        annot.append(\"this shouldn't exist\")"
   ]
  },
  {
   "cell_type": "code",
   "execution_count": null,
   "id": "baee9fb4-3d8f-4080-9c33-bdab1bb832ae",
   "metadata": {},
   "outputs": [],
   "source": [
    "adata2.var[\"subgroup\"] = annot"
   ]
  },
  {
   "cell_type": "code",
   "execution_count": null,
   "id": "8872af61-1bf5-4b0d-acdb-7d5e6fb456c9",
   "metadata": {},
   "outputs": [],
   "source": [
    "epi.tl.louvain(adata2, resolution=0.5)\n",
    "epi.tl.louvain(adata2, resolution=0.2, restrict_to=(\"louvain\",[\"3\"]), key_added=\"test\")\n",
    "epi.tl.louvain(adata2, resolution=0.2, restrict_to=(\"test\",[\"1\"]), key_added=\"test2\")"
   ]
  },
  {
   "cell_type": "code",
   "execution_count": null,
   "id": "31ef8425-07b3-4166-98ed-9c859d0b983a",
   "metadata": {},
   "outputs": [],
   "source": [
    "sc.pl.umap(adata2, color=[\"test2\",\"chr5_154682469_154682925\",\"chr8_101205373_101206298\",\"chr7_6374186_6374568\",\"chr1_202589184_202589536\"], cmap=\"YlGnBu\", wspace=0.4, ncols=2)"
   ]
  },
  {
   "cell_type": "code",
   "execution_count": null,
   "id": "f62e7271-c43c-4077-a7eb-8991db1697bf",
   "metadata": {},
   "outputs": [],
   "source": [
    "annot = []\n",
    "for idx, elem in enumerate(adata2.obs[\"test2\"]):\n",
    "    if elem in [\"6\",\"1,4\",\"1,5\",\"10\"]:\n",
    "        annot.append(\"I\")\n",
    "    elif elem in [\"3,1\",\"1,3\",\"4\"]:\n",
    "        annot.append(\"II\")\n",
    "    elif elem in [\"3,2\",\"1,1\"]:\n",
    "        annot.append(\"III\")\n",
    "    elif elem in [\"1,0\",\"12\"]:\n",
    "        annot.append(\"IV\")\n",
    "    else:\n",
    "        annot.append(\"nothing\")"
   ]
  },
  {
   "cell_type": "code",
   "execution_count": null,
   "id": "034aac57-e9ea-424d-804a-2463d63e1a9f",
   "metadata": {},
   "outputs": [],
   "source": [
    "adata2.obs[\"subgroups\"] = annot"
   ]
  },
  {
   "cell_type": "code",
   "execution_count": null,
   "id": "cf67df75-e55b-4a9e-9457-4481d8db50fc",
   "metadata": {},
   "outputs": [],
   "source": [
    "adata2.uns[\"subgroups_colors\"] = ['#ff7f0e', '#1f77b4', '#17b2b1', '#9b1c03',\"#f0f0f0\"]"
   ]
  },
  {
   "cell_type": "code",
   "execution_count": null,
   "id": "32e0ceef-1bd7-424c-9277-38a64a418359",
   "metadata": {},
   "outputs": [],
   "source": [
    "epi.pl.umap(adata2, color=[\"subgroups\",\"chr5_154682469_154682925\",\"chr1_150971221_150971606\",\n",
    "                           \"chr7_73622917_73623468\",\"chr2_54630007_54630263\",\n",
    "                           \"chr8_101205373_101206298\",\"chr7_6374186_6374568\",\"chr1_1374971_1375434\",\n",
    "                           \"chr1_202589184_202589536\",\"chr1_202348091_202348922\",\n",
    "                          \"chr1_118963414_118963884\",\"chr2_218395915_218396552\"], cmap=\"YlGnBu\", ncols=3,\n",
    "           save=\"_annotation_attempt_by_specific_TFBS_20230119.pdf\")"
   ]
  },
  {
   "cell_type": "code",
   "execution_count": null,
   "id": "af0d385b-814f-43ac-a1f9-c469fe828c0a",
   "metadata": {},
   "outputs": [],
   "source": [
    "adata3 = adata2[adata2.obs[\"subgroups\"] != \"nothing\"]"
   ]
  },
  {
   "cell_type": "code",
   "execution_count": null,
   "id": "1865f626-3d0f-40ed-81ae-9345c601af09",
   "metadata": {},
   "outputs": [],
   "source": [
    "outfile = open(\"subgroup_annotation_for_R.txt\",\"w\")\n",
    "outfile.write(\"cell\"+\"\\t\"+\"group\"+\"\\t\"+\"total_reads\"+\"\\n\")\n",
    "for idx, elem in enumerate(adata3.obs_names.tolist()):\n",
    "    outfile.write(elem+\"\\t\"+adata3.obs[\"subgroups\"][idx]+\"\\t\"+str(adata3.obs[\"n_features\"][idx])+\"\\n\")\n",
    "outfile.close()"
   ]
  },
  {
   "cell_type": "code",
   "execution_count": null,
   "id": "12883b5c-7039-4e2e-8c9d-7f5c96ac4f80",
   "metadata": {},
   "outputs": [],
   "source": [
    "annot = []\n",
    "for elem in adata2.var[\"subgroup\"].tolist():\n",
    "    if str(elem)[0] == \"[\":\n",
    "        annot.append(\"NA\")\n",
    "    else:\n",
    "        annot.append(elem)"
   ]
  },
  {
   "cell_type": "code",
   "execution_count": null,
   "id": "7bf385ff-8753-42f4-a90f-2f78becef0ce",
   "metadata": {},
   "outputs": [],
   "source": [
    "adata2.var[\"subgroup\"] = annot"
   ]
  },
  {
   "cell_type": "code",
   "execution_count": null,
   "id": "46e3f1d5-6318-4d5c-a9c9-e4a4b24d8ac5",
   "metadata": {},
   "outputs": [],
   "source": [
    "adata2.write(\"rough_annotation_subgroups_TFBS_in_proximity_to_genes.h5ad\")"
   ]
  },
  {
   "cell_type": "code",
   "execution_count": null,
   "id": "1dc1a785-b7ce-4e75-96e8-5e1ea848a8c4",
   "metadata": {},
   "outputs": [],
   "source": [
    "import seaborn as sns\n",
    "from scipy.cluster.hierarchy import linkage"
   ]
  },
  {
   "cell_type": "code",
   "execution_count": null,
   "id": "f145b2ca-a2df-4f56-b4f8-162390c5fc96",
   "metadata": {},
   "outputs": [],
   "source": [
    "adata = ad.read(\"rough_annotation_subgroups_TFBS_in_proximity_to_genes.h5ad\")"
   ]
  },
  {
   "cell_type": "code",
   "execution_count": null,
   "id": "65b0537f-8a12-410f-bac7-66e9529e4408",
   "metadata": {},
   "outputs": [],
   "source": [
    "adatax = adata[:,adata.var[\"subgroup\"] != \"NA\"]"
   ]
  },
  {
   "cell_type": "code",
   "execution_count": null,
   "id": "b27447d5-1a03-4033-9d3a-d52f3e95a7af",
   "metadata": {},
   "outputs": [],
   "source": [
    "annot = []\n",
    "for elem in adatax.var[\"gene_annotation\"].tolist():\n",
    "    if elem in [\"CTSB\",\"LARP1\",\"SPTBN1\",\"IQGAP2\",\"DIAPH1\",\n",
    "                \"RAC1\",\"UGP2\",\"ZNF706\",\"RPL5\",\"RPS12\",\n",
    "                \"PPP1R12B\",\"CCNL1\",\"ALB\",\"NRBP2\",\"OGT\"]:\n",
    "        annot.append(\"keep\")\n",
    "    else:\n",
    "        annot.append(\"no\")"
   ]
  },
  {
   "cell_type": "code",
   "execution_count": null,
   "id": "613376ae-7862-4fc4-b557-7e03a8a3adca",
   "metadata": {},
   "outputs": [],
   "source": [
    "adatax.var[\"to_plot\"] = annot"
   ]
  },
  {
   "cell_type": "code",
   "execution_count": null,
   "id": "6a51d925-6150-40e6-9907-0d467ce10685",
   "metadata": {},
   "outputs": [],
   "source": [
    "adata2 = adatax[:,adatax.var[\"to_plot\"] == \"keep\"]"
   ]
  },
  {
   "cell_type": "code",
   "execution_count": null,
   "id": "67583518-740a-460e-9ee8-7ca1a7d5b9bd",
   "metadata": {},
   "outputs": [],
   "source": [
    "sc.pp.filter_cells(adata2, min_counts=1)"
   ]
  },
  {
   "cell_type": "code",
   "execution_count": null,
   "id": "2607a779-44dc-4edc-92ff-4286bff030d0",
   "metadata": {},
   "outputs": [],
   "source": [
    "df = pd.DataFrame(adata2.X.todense().T)\n",
    "df.index = adata2.var_names.tolist()\n",
    "df.columns = adata2.obs.index"
   ]
  },
  {
   "cell_type": "code",
   "execution_count": null,
   "id": "9e8e2c18-9485-40ba-9db4-a00d9b5b6bfe",
   "metadata": {},
   "outputs": [],
   "source": [
    "from scipy.spatial.distance import pdist, squareform"
   ]
  },
  {
   "cell_type": "code",
   "execution_count": null,
   "id": "19a80f29-16c6-4f51-9c42-d61023b4c324",
   "metadata": {},
   "outputs": [],
   "source": [
    "x = pdist(np.log1p(df), metric=\"correlation\")\n",
    "#x = np.matrix(df)\n",
    "x2 = squareform(x)"
   ]
  },
  {
   "cell_type": "code",
   "execution_count": null,
   "id": "f57b7474-f11b-4969-9f78-22ff2fd0cbbb",
   "metadata": {},
   "outputs": [],
   "source": [
    "df1 = pd.DataFrame(x2)\n",
    "df1.index = df.index\n",
    "df1.columns = df.index"
   ]
  },
  {
   "cell_type": "code",
   "execution_count": null,
   "id": "7fd26e89-1871-4bf8-a257-04100ee07747",
   "metadata": {},
   "outputs": [],
   "source": [
    "annot = []\n",
    "for idx, elem in enumerate(adata2.var[\"gene_annotation\"].tolist()):\n",
    "    annot.append(elem+\"_\"+adata2.var[\"subgroup\"][idx])\n",
    "df1[\"gene\"] = annot"
   ]
  },
  {
   "cell_type": "code",
   "execution_count": null,
   "id": "10b00073-e9a7-4016-857d-7916bd3bbe51",
   "metadata": {},
   "outputs": [],
   "source": [
    "df2 = df1.groupby(df1[\"gene\"]).mean()     "
   ]
  },
  {
   "cell_type": "code",
   "execution_count": null,
   "id": "86f0e93b-e007-422f-bb88-5b5612754fb3",
   "metadata": {},
   "outputs": [],
   "source": [
    "gene_list = ['OGT_III','ALB_III','CCNL1_III','NRBP2_III','PPP1R12B_III','RAC1_II','UGP2_II','RPL5_II','RPS12_II','ZNF706_II',\n",
    "             'IQGAP2_I','LARP1_I','CTSB_I','DIAPH1_I','SPTBN1_I']"
   ]
  },
  {
   "cell_type": "code",
   "execution_count": null,
   "id": "e3d384f2-a049-4cb4-8852-3bec2cf2e210",
   "metadata": {},
   "outputs": [],
   "source": [
    "sorterIndex = dict(zip(gene_list, range(len(gene_list))))\n",
    "df2['gene_rank'] = df2.index.map(sorterIndex)\n",
    "df2.sort_values([\"gene_rank\"], inplace = True)\n",
    "df2.drop('gene_rank', 1, inplace = True)"
   ]
  },
  {
   "cell_type": "code",
   "execution_count": null,
   "id": "778b8eb8-7a1f-4416-a528-f46ec050ca07",
   "metadata": {},
   "outputs": [],
   "source": [
    "lut2 = dict(zip(set(adata2.var[\"subgroup\"].tolist()), ['#1f77b4', '#17b2b1', '#ff7f0e'])) # check order for matching colors\n",
    "row_colors2 = adata2.var[\"subgroup\"].map(lut2)\n",
    "\n",
    "sns.clustermap(df2, cmap=\"Blues_r\", xticklabels=1, yticklabels=1, col_colors=row_colors2, row_cluster=False)\n",
    "plt.savefig(\"scATAC_DMSO_TFBS_openness_correlation_gene_wise_subgroup_specific_genes_20230126.pdf\", bbox_inches=\"tight\")"
   ]
  },
  {
   "cell_type": "code",
   "execution_count": null,
   "id": "f203ab51-0905-45f9-b2e1-9014ac0d6164",
   "metadata": {},
   "outputs": [],
   "source": []
  }
 ],
 "metadata": {
  "kernelspec": {
   "display_name": "episcanpy2",
   "language": "python",
   "name": "episcanpy2"
  },
  "language_info": {
   "codemirror_mode": {
    "name": "ipython",
    "version": 3
   },
   "file_extension": ".py",
   "mimetype": "text/x-python",
   "name": "python",
   "nbconvert_exporter": "python",
   "pygments_lexer": "ipython3",
   "version": "3.8.15"
  }
 },
 "nbformat": 4,
 "nbformat_minor": 5
}
